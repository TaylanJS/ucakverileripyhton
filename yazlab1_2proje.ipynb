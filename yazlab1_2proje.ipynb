{
  "nbformat": 4,
  "nbformat_minor": 0,
  "metadata": {
    "colab": {
      "provenance": [],
      "mount_file_id": "1nsm8oMYeBAa6jn0hsvNkFQONzagTsMSB",
      "authorship_tag": "ABX9TyN/VVACzU9XFz9omjGueZlV",
      "include_colab_link": true
    },
    "kernelspec": {
      "name": "python3",
      "display_name": "Python 3"
    },
    "language_info": {
      "name": "python"
    }
  },
  "cells": [
    {
      "cell_type": "markdown",
      "metadata": {
        "id": "view-in-github",
        "colab_type": "text"
      },
      "source": [
        "<a href=\"https://colab.research.google.com/github/TaylanJS/ucakverileripyhton/blob/main/yazlab1_2proje.ipynb\" target=\"_parent\"><img src=\"https://colab.research.google.com/assets/colab-badge.svg\" alt=\"Open In Colab\"/></a>"
      ]
    },
    {
      "cell_type": "code",
      "execution_count": 7,
      "metadata": {
        "colab": {
          "base_uri": "https://localhost:8080/",
          "height": 90
        },
        "id": "w6blXZALtt5U",
        "outputId": "3ece29f5-032b-4faf-cf61-7d0e69077a6b"
      },
      "outputs": [
        {
          "output_type": "display_data",
          "data": {
            "text/plain": [
              "<IPython.core.display.HTML object>"
            ],
            "text/html": [
              "\n",
              "     <input type=\"file\" id=\"files-d3416b45-b489-44d7-ae6a-686dc0fa87f6\" name=\"files[]\" multiple disabled\n",
              "        style=\"border:none\" />\n",
              "     <output id=\"result-d3416b45-b489-44d7-ae6a-686dc0fa87f6\">\n",
              "      Upload widget is only available when the cell has been executed in the\n",
              "      current browser session. Please rerun this cell to enable.\n",
              "      </output>\n",
              "      <script>// Copyright 2017 Google LLC\n",
              "//\n",
              "// Licensed under the Apache License, Version 2.0 (the \"License\");\n",
              "// you may not use this file except in compliance with the License.\n",
              "// You may obtain a copy of the License at\n",
              "//\n",
              "//      http://www.apache.org/licenses/LICENSE-2.0\n",
              "//\n",
              "// Unless required by applicable law or agreed to in writing, software\n",
              "// distributed under the License is distributed on an \"AS IS\" BASIS,\n",
              "// WITHOUT WARRANTIES OR CONDITIONS OF ANY KIND, either express or implied.\n",
              "// See the License for the specific language governing permissions and\n",
              "// limitations under the License.\n",
              "\n",
              "/**\n",
              " * @fileoverview Helpers for google.colab Python module.\n",
              " */\n",
              "(function(scope) {\n",
              "function span(text, styleAttributes = {}) {\n",
              "  const element = document.createElement('span');\n",
              "  element.textContent = text;\n",
              "  for (const key of Object.keys(styleAttributes)) {\n",
              "    element.style[key] = styleAttributes[key];\n",
              "  }\n",
              "  return element;\n",
              "}\n",
              "\n",
              "// Max number of bytes which will be uploaded at a time.\n",
              "const MAX_PAYLOAD_SIZE = 100 * 1024;\n",
              "\n",
              "function _uploadFiles(inputId, outputId) {\n",
              "  const steps = uploadFilesStep(inputId, outputId);\n",
              "  const outputElement = document.getElementById(outputId);\n",
              "  // Cache steps on the outputElement to make it available for the next call\n",
              "  // to uploadFilesContinue from Python.\n",
              "  outputElement.steps = steps;\n",
              "\n",
              "  return _uploadFilesContinue(outputId);\n",
              "}\n",
              "\n",
              "// This is roughly an async generator (not supported in the browser yet),\n",
              "// where there are multiple asynchronous steps and the Python side is going\n",
              "// to poll for completion of each step.\n",
              "// This uses a Promise to block the python side on completion of each step,\n",
              "// then passes the result of the previous step as the input to the next step.\n",
              "function _uploadFilesContinue(outputId) {\n",
              "  const outputElement = document.getElementById(outputId);\n",
              "  const steps = outputElement.steps;\n",
              "\n",
              "  const next = steps.next(outputElement.lastPromiseValue);\n",
              "  return Promise.resolve(next.value.promise).then((value) => {\n",
              "    // Cache the last promise value to make it available to the next\n",
              "    // step of the generator.\n",
              "    outputElement.lastPromiseValue = value;\n",
              "    return next.value.response;\n",
              "  });\n",
              "}\n",
              "\n",
              "/**\n",
              " * Generator function which is called between each async step of the upload\n",
              " * process.\n",
              " * @param {string} inputId Element ID of the input file picker element.\n",
              " * @param {string} outputId Element ID of the output display.\n",
              " * @return {!Iterable<!Object>} Iterable of next steps.\n",
              " */\n",
              "function* uploadFilesStep(inputId, outputId) {\n",
              "  const inputElement = document.getElementById(inputId);\n",
              "  inputElement.disabled = false;\n",
              "\n",
              "  const outputElement = document.getElementById(outputId);\n",
              "  outputElement.innerHTML = '';\n",
              "\n",
              "  const pickedPromise = new Promise((resolve) => {\n",
              "    inputElement.addEventListener('change', (e) => {\n",
              "      resolve(e.target.files);\n",
              "    });\n",
              "  });\n",
              "\n",
              "  const cancel = document.createElement('button');\n",
              "  inputElement.parentElement.appendChild(cancel);\n",
              "  cancel.textContent = 'Cancel upload';\n",
              "  const cancelPromise = new Promise((resolve) => {\n",
              "    cancel.onclick = () => {\n",
              "      resolve(null);\n",
              "    };\n",
              "  });\n",
              "\n",
              "  // Wait for the user to pick the files.\n",
              "  const files = yield {\n",
              "    promise: Promise.race([pickedPromise, cancelPromise]),\n",
              "    response: {\n",
              "      action: 'starting',\n",
              "    }\n",
              "  };\n",
              "\n",
              "  cancel.remove();\n",
              "\n",
              "  // Disable the input element since further picks are not allowed.\n",
              "  inputElement.disabled = true;\n",
              "\n",
              "  if (!files) {\n",
              "    return {\n",
              "      response: {\n",
              "        action: 'complete',\n",
              "      }\n",
              "    };\n",
              "  }\n",
              "\n",
              "  for (const file of files) {\n",
              "    const li = document.createElement('li');\n",
              "    li.append(span(file.name, {fontWeight: 'bold'}));\n",
              "    li.append(span(\n",
              "        `(${file.type || 'n/a'}) - ${file.size} bytes, ` +\n",
              "        `last modified: ${\n",
              "            file.lastModifiedDate ? file.lastModifiedDate.toLocaleDateString() :\n",
              "                                    'n/a'} - `));\n",
              "    const percent = span('0% done');\n",
              "    li.appendChild(percent);\n",
              "\n",
              "    outputElement.appendChild(li);\n",
              "\n",
              "    const fileDataPromise = new Promise((resolve) => {\n",
              "      const reader = new FileReader();\n",
              "      reader.onload = (e) => {\n",
              "        resolve(e.target.result);\n",
              "      };\n",
              "      reader.readAsArrayBuffer(file);\n",
              "    });\n",
              "    // Wait for the data to be ready.\n",
              "    let fileData = yield {\n",
              "      promise: fileDataPromise,\n",
              "      response: {\n",
              "        action: 'continue',\n",
              "      }\n",
              "    };\n",
              "\n",
              "    // Use a chunked sending to avoid message size limits. See b/62115660.\n",
              "    let position = 0;\n",
              "    do {\n",
              "      const length = Math.min(fileData.byteLength - position, MAX_PAYLOAD_SIZE);\n",
              "      const chunk = new Uint8Array(fileData, position, length);\n",
              "      position += length;\n",
              "\n",
              "      const base64 = btoa(String.fromCharCode.apply(null, chunk));\n",
              "      yield {\n",
              "        response: {\n",
              "          action: 'append',\n",
              "          file: file.name,\n",
              "          data: base64,\n",
              "        },\n",
              "      };\n",
              "\n",
              "      let percentDone = fileData.byteLength === 0 ?\n",
              "          100 :\n",
              "          Math.round((position / fileData.byteLength) * 100);\n",
              "      percent.textContent = `${percentDone}% done`;\n",
              "\n",
              "    } while (position < fileData.byteLength);\n",
              "  }\n",
              "\n",
              "  // All done.\n",
              "  yield {\n",
              "    response: {\n",
              "      action: 'complete',\n",
              "    }\n",
              "  };\n",
              "}\n",
              "\n",
              "scope.google = scope.google || {};\n",
              "scope.google.colab = scope.google.colab || {};\n",
              "scope.google.colab._files = {\n",
              "  _uploadFiles,\n",
              "  _uploadFilesContinue,\n",
              "};\n",
              "})(self);\n",
              "</script> "
            ]
          },
          "metadata": {}
        },
        {
          "output_type": "stream",
          "name": "stdout",
          "text": [
            "Saving POWER_Point_Hourly_20240101_20241210_041d02N_028d98E_LST.csv to POWER_Point_Hourly_20240101_20241210_041d02N_028d98E_LST.csv\n",
            "Dosya 'istanbul_havadurumu.csv' adıyla kaydedildi.\n"
          ]
        }
      ],
      "source": [
        "from google.colab import files\n",
        "\n",
        "\n",
        "uploaded = files.upload()\n",
        "\n",
        "\n",
        "for filename in uploaded.keys():\n",
        "    with open(\"istanbul_havadurumu.csv\", \"wb\") as f:\n",
        "        f.write(uploaded[filename])\n",
        "\n",
        "print(\"Dosya 'istanbul_havadurumu.csv' adıyla kaydedildi.\")\n"
      ]
    },
    {
      "cell_type": "code",
      "source": [
        "import pandas as pd\n",
        "import csv\n",
        "\n",
        "file_path = \"istanbul_havadurumu.csv\"\n",
        "\n",
        "with open(file_path, 'r') as f:\n",
        "    lines = f.readlines()\n",
        "\n",
        "\n",
        "data_start = lines.index(\"-END HEADER-\\n\") + 1\n",
        "data = pd.read_csv(file_path, skiprows=data_start)\n",
        "\n",
        "\n",
        "data['YEAR'] = data['YEAR'].astype(int)\n",
        "data['MO'] = data['MO'].astype(int)\n",
        "data['DY'] = data['DY'].astype(int)\n",
        "data['HR'] = data['HR'].astype(int)\n",
        "\n",
        "\n",
        "data['datetime'] = pd.to_datetime(\n",
        "    data['YEAR'].astype(str) + '-' +\n",
        "    data['MO'].astype(str) + '-' +\n",
        "    data['DY'].astype(str) + ' ' +\n",
        "    data['HR'].astype(str) + ':00',\n",
        "    errors='coerce'\n",
        ")\n",
        "\n",
        "\n",
        "data.dropna(subset=['datetime'], inplace=True)\n",
        "\n",
        "\n",
        "data.drop(columns=['YEAR', 'MO', 'DY', 'HR'], inplace=True)\n",
        "\n",
        "data.to_csv(\"temiz_veri.csv\", index=False)\n",
        "\n",
        "print(data.head())"
      ],
      "metadata": {
        "colab": {
          "base_uri": "https://localhost:8080/"
        },
        "id": "lxMlSPs0ujiV",
        "outputId": "edb5413c-a4fb-4eda-d1aa-1d3445410a24"
      },
      "execution_count": 8,
      "outputs": [
        {
          "output_type": "stream",
          "name": "stdout",
          "text": [
            "     T2M  QV2M   RH2M  PRECTOTCORR      PS  WS10M   WD10M            datetime\n",
            "0  11.02  7.87  97.31          0.0  101.22   2.55  178.24 2024-01-01 00:00:00\n",
            "1  10.68  7.75  97.50          0.0  101.19   2.78  188.40 2024-01-01 01:00:00\n",
            "2  10.32  7.57  97.81          0.0  101.18   3.12  199.43 2024-01-01 02:00:00\n",
            "3  10.00  7.45  98.31          0.0  101.15   3.38  209.17 2024-01-01 03:00:00\n",
            "4   9.79  7.45  99.12          0.0  101.13   3.46  212.94 2024-01-01 04:00:00\n"
          ]
        }
      ]
    },
    {
      "cell_type": "code",
      "source": [
        "!pip install numpy pandas matplotlib scikit-learn torch transformers optuna pytorch-lightning"
      ],
      "metadata": {
        "colab": {
          "base_uri": "https://localhost:8080/"
        },
        "id": "Z7yjY9iMurSl",
        "outputId": "0eb471e6-afae-4c02-ddec-152700ffed21"
      },
      "execution_count": null,
      "outputs": [
        {
          "output_type": "stream",
          "name": "stdout",
          "text": [
            "Requirement already satisfied: numpy in /usr/local/lib/python3.10/dist-packages (1.26.4)\n",
            "Requirement already satisfied: pandas in /usr/local/lib/python3.10/dist-packages (2.2.2)\n",
            "Requirement already satisfied: matplotlib in /usr/local/lib/python3.10/dist-packages (3.8.0)\n",
            "Requirement already satisfied: scikit-learn in /usr/local/lib/python3.10/dist-packages (1.6.0)\n",
            "Requirement already satisfied: torch in /usr/local/lib/python3.10/dist-packages (2.5.1+cu121)\n",
            "Requirement already satisfied: transformers in /usr/local/lib/python3.10/dist-packages (4.47.1)\n",
            "Collecting optuna\n",
            "  Downloading optuna-4.1.0-py3-none-any.whl.metadata (16 kB)\n",
            "Collecting pytorch-lightning\n",
            "  Downloading pytorch_lightning-2.5.0.post0-py3-none-any.whl.metadata (21 kB)\n",
            "Requirement already satisfied: python-dateutil>=2.8.2 in /usr/local/lib/python3.10/dist-packages (from pandas) (2.8.2)\n",
            "Requirement already satisfied: pytz>=2020.1 in /usr/local/lib/python3.10/dist-packages (from pandas) (2024.2)\n",
            "Requirement already satisfied: tzdata>=2022.7 in /usr/local/lib/python3.10/dist-packages (from pandas) (2024.2)\n",
            "Requirement already satisfied: contourpy>=1.0.1 in /usr/local/lib/python3.10/dist-packages (from matplotlib) (1.3.1)\n",
            "Requirement already satisfied: cycler>=0.10 in /usr/local/lib/python3.10/dist-packages (from matplotlib) (0.12.1)\n",
            "Requirement already satisfied: fonttools>=4.22.0 in /usr/local/lib/python3.10/dist-packages (from matplotlib) (4.55.3)\n",
            "Requirement already satisfied: kiwisolver>=1.0.1 in /usr/local/lib/python3.10/dist-packages (from matplotlib) (1.4.7)\n",
            "Requirement already satisfied: packaging>=20.0 in /usr/local/lib/python3.10/dist-packages (from matplotlib) (24.2)\n",
            "Requirement already satisfied: pillow>=6.2.0 in /usr/local/lib/python3.10/dist-packages (from matplotlib) (11.0.0)\n",
            "Requirement already satisfied: pyparsing>=2.3.1 in /usr/local/lib/python3.10/dist-packages (from matplotlib) (3.2.0)\n",
            "Requirement already satisfied: scipy>=1.6.0 in /usr/local/lib/python3.10/dist-packages (from scikit-learn) (1.13.1)\n",
            "Requirement already satisfied: joblib>=1.2.0 in /usr/local/lib/python3.10/dist-packages (from scikit-learn) (1.4.2)\n",
            "Requirement already satisfied: threadpoolctl>=3.1.0 in /usr/local/lib/python3.10/dist-packages (from scikit-learn) (3.5.0)\n",
            "Requirement already satisfied: filelock in /usr/local/lib/python3.10/dist-packages (from torch) (3.16.1)\n",
            "Requirement already satisfied: typing-extensions>=4.8.0 in /usr/local/lib/python3.10/dist-packages (from torch) (4.12.2)\n",
            "Requirement already satisfied: networkx in /usr/local/lib/python3.10/dist-packages (from torch) (3.4.2)\n",
            "Requirement already satisfied: jinja2 in /usr/local/lib/python3.10/dist-packages (from torch) (3.1.4)\n",
            "Requirement already satisfied: fsspec in /usr/local/lib/python3.10/dist-packages (from torch) (2024.10.0)\n",
            "Requirement already satisfied: sympy==1.13.1 in /usr/local/lib/python3.10/dist-packages (from torch) (1.13.1)\n",
            "Requirement already satisfied: mpmath<1.4,>=1.1.0 in /usr/local/lib/python3.10/dist-packages (from sympy==1.13.1->torch) (1.3.0)\n",
            "Requirement already satisfied: huggingface-hub<1.0,>=0.24.0 in /usr/local/lib/python3.10/dist-packages (from transformers) (0.27.0)\n",
            "Requirement already satisfied: pyyaml>=5.1 in /usr/local/lib/python3.10/dist-packages (from transformers) (6.0.2)\n",
            "Requirement already satisfied: regex!=2019.12.17 in /usr/local/lib/python3.10/dist-packages (from transformers) (2024.11.6)\n",
            "Requirement already satisfied: requests in /usr/local/lib/python3.10/dist-packages (from transformers) (2.32.3)\n",
            "Requirement already satisfied: tokenizers<0.22,>=0.21 in /usr/local/lib/python3.10/dist-packages (from transformers) (0.21.0)\n",
            "Requirement already satisfied: safetensors>=0.4.1 in /usr/local/lib/python3.10/dist-packages (from transformers) (0.4.5)\n",
            "Requirement already satisfied: tqdm>=4.27 in /usr/local/lib/python3.10/dist-packages (from transformers) (4.67.1)\n",
            "Collecting alembic>=1.5.0 (from optuna)\n",
            "  Downloading alembic-1.14.0-py3-none-any.whl.metadata (7.4 kB)\n",
            "Collecting colorlog (from optuna)\n",
            "  Downloading colorlog-6.9.0-py3-none-any.whl.metadata (10 kB)\n",
            "Requirement already satisfied: sqlalchemy>=1.4.2 in /usr/local/lib/python3.10/dist-packages (from optuna) (2.0.36)\n",
            "Collecting torchmetrics>=0.7.0 (from pytorch-lightning)\n",
            "  Downloading torchmetrics-1.6.1-py3-none-any.whl.metadata (21 kB)\n",
            "Collecting lightning-utilities>=0.10.0 (from pytorch-lightning)\n",
            "  Downloading lightning_utilities-0.11.9-py3-none-any.whl.metadata (5.2 kB)\n",
            "Collecting Mako (from alembic>=1.5.0->optuna)\n",
            "  Downloading Mako-1.3.8-py3-none-any.whl.metadata (2.9 kB)\n",
            "Requirement already satisfied: aiohttp!=4.0.0a0,!=4.0.0a1 in /usr/local/lib/python3.10/dist-packages (from fsspec[http]>=2022.5.0->pytorch-lightning) (3.11.10)\n",
            "Requirement already satisfied: setuptools in /usr/local/lib/python3.10/dist-packages (from lightning-utilities>=0.10.0->pytorch-lightning) (75.1.0)\n",
            "Requirement already satisfied: six>=1.5 in /usr/local/lib/python3.10/dist-packages (from python-dateutil>=2.8.2->pandas) (1.17.0)\n",
            "Requirement already satisfied: greenlet!=0.4.17 in /usr/local/lib/python3.10/dist-packages (from sqlalchemy>=1.4.2->optuna) (3.1.1)\n",
            "Requirement already satisfied: MarkupSafe>=2.0 in /usr/local/lib/python3.10/dist-packages (from jinja2->torch) (3.0.2)\n",
            "Requirement already satisfied: charset-normalizer<4,>=2 in /usr/local/lib/python3.10/dist-packages (from requests->transformers) (3.4.0)\n",
            "Requirement already satisfied: idna<4,>=2.5 in /usr/local/lib/python3.10/dist-packages (from requests->transformers) (3.10)\n",
            "Requirement already satisfied: urllib3<3,>=1.21.1 in /usr/local/lib/python3.10/dist-packages (from requests->transformers) (2.2.3)\n",
            "Requirement already satisfied: certifi>=2017.4.17 in /usr/local/lib/python3.10/dist-packages (from requests->transformers) (2024.12.14)\n",
            "Requirement already satisfied: aiohappyeyeballs>=2.3.0 in /usr/local/lib/python3.10/dist-packages (from aiohttp!=4.0.0a0,!=4.0.0a1->fsspec[http]>=2022.5.0->pytorch-lightning) (2.4.4)\n",
            "Requirement already satisfied: aiosignal>=1.1.2 in /usr/local/lib/python3.10/dist-packages (from aiohttp!=4.0.0a0,!=4.0.0a1->fsspec[http]>=2022.5.0->pytorch-lightning) (1.3.2)\n",
            "Requirement already satisfied: async-timeout<6.0,>=4.0 in /usr/local/lib/python3.10/dist-packages (from aiohttp!=4.0.0a0,!=4.0.0a1->fsspec[http]>=2022.5.0->pytorch-lightning) (4.0.3)\n",
            "Requirement already satisfied: attrs>=17.3.0 in /usr/local/lib/python3.10/dist-packages (from aiohttp!=4.0.0a0,!=4.0.0a1->fsspec[http]>=2022.5.0->pytorch-lightning) (24.3.0)\n",
            "Requirement already satisfied: frozenlist>=1.1.1 in /usr/local/lib/python3.10/dist-packages (from aiohttp!=4.0.0a0,!=4.0.0a1->fsspec[http]>=2022.5.0->pytorch-lightning) (1.5.0)\n",
            "Requirement already satisfied: multidict<7.0,>=4.5 in /usr/local/lib/python3.10/dist-packages (from aiohttp!=4.0.0a0,!=4.0.0a1->fsspec[http]>=2022.5.0->pytorch-lightning) (6.1.0)\n",
            "Requirement already satisfied: propcache>=0.2.0 in /usr/local/lib/python3.10/dist-packages (from aiohttp!=4.0.0a0,!=4.0.0a1->fsspec[http]>=2022.5.0->pytorch-lightning) (0.2.1)\n",
            "Requirement already satisfied: yarl<2.0,>=1.17.0 in /usr/local/lib/python3.10/dist-packages (from aiohttp!=4.0.0a0,!=4.0.0a1->fsspec[http]>=2022.5.0->pytorch-lightning) (1.18.3)\n",
            "Downloading optuna-4.1.0-py3-none-any.whl (364 kB)\n",
            "\u001b[2K   \u001b[90m━━━━━━━━━━━━━━━━━━━━━━━━━━━━━━━━━━━━━━━━\u001b[0m \u001b[32m364.4/364.4 kB\u001b[0m \u001b[31m11.0 MB/s\u001b[0m eta \u001b[36m0:00:00\u001b[0m\n",
            "\u001b[?25hDownloading pytorch_lightning-2.5.0.post0-py3-none-any.whl (819 kB)\n",
            "\u001b[2K   \u001b[90m━━━━━━━━━━━━━━━━━━━━━━━━━━━━━━━━━━━━━━━━\u001b[0m \u001b[32m819.3/819.3 kB\u001b[0m \u001b[31m41.8 MB/s\u001b[0m eta \u001b[36m0:00:00\u001b[0m\n",
            "\u001b[?25hDownloading alembic-1.14.0-py3-none-any.whl (233 kB)\n",
            "\u001b[2K   \u001b[90m━━━━━━━━━━━━━━━━━━━━━━━━━━━━━━━━━━━━━━━━\u001b[0m \u001b[32m233.5/233.5 kB\u001b[0m \u001b[31m22.6 MB/s\u001b[0m eta \u001b[36m0:00:00\u001b[0m\n",
            "\u001b[?25hDownloading lightning_utilities-0.11.9-py3-none-any.whl (28 kB)\n",
            "Downloading torchmetrics-1.6.1-py3-none-any.whl (927 kB)\n",
            "\u001b[2K   \u001b[90m━━━━━━━━━━━━━━━━━━━━━━━━━━━━━━━━━━━━━━━━\u001b[0m \u001b[32m927.3/927.3 kB\u001b[0m \u001b[31m58.2 MB/s\u001b[0m eta \u001b[36m0:00:00\u001b[0m\n",
            "\u001b[?25hDownloading colorlog-6.9.0-py3-none-any.whl (11 kB)\n",
            "Downloading Mako-1.3.8-py3-none-any.whl (78 kB)\n",
            "\u001b[2K   \u001b[90m━━━━━━━━━━━━━━━━━━━━━━━━━━━━━━━━━━━━━━━━\u001b[0m \u001b[32m78.6/78.6 kB\u001b[0m \u001b[31m8.9 MB/s\u001b[0m eta \u001b[36m0:00:00\u001b[0m\n",
            "\u001b[?25hInstalling collected packages: Mako, lightning-utilities, colorlog, alembic, torchmetrics, optuna, pytorch-lightning\n",
            "Successfully installed Mako-1.3.8 alembic-1.14.0 colorlog-6.9.0 lightning-utilities-0.11.9 optuna-4.1.0 pytorch-lightning-2.5.0.post0 torchmetrics-1.6.1\n"
          ]
        }
      ]
    },
    {
      "cell_type": "code",
      "source": [
        "import pandas as pd\n",
        "\n",
        "data = pd.read_csv(\"temiz_veri.csv\", parse_dates=['datetime'])\n",
        "print(data.head())"
      ],
      "metadata": {
        "colab": {
          "base_uri": "https://localhost:8080/"
        },
        "id": "dzvWcH1WwSw-",
        "outputId": "dde42208-390f-4aa3-d3ff-04519c566166"
      },
      "execution_count": 9,
      "outputs": [
        {
          "output_type": "stream",
          "name": "stdout",
          "text": [
            "     T2M  QV2M   RH2M  PRECTOTCORR      PS  WS10M   WD10M            datetime\n",
            "0  11.02  7.87  97.31          0.0  101.22   2.55  178.24 2024-01-01 00:00:00\n",
            "1  10.68  7.75  97.50          0.0  101.19   2.78  188.40 2024-01-01 01:00:00\n",
            "2  10.32  7.57  97.81          0.0  101.18   3.12  199.43 2024-01-01 02:00:00\n",
            "3  10.00  7.45  98.31          0.0  101.15   3.38  209.17 2024-01-01 03:00:00\n",
            "4   9.79  7.45  99.12          0.0  101.13   3.46  212.94 2024-01-01 04:00:00\n"
          ]
        }
      ]
    },
    {
      "cell_type": "code",
      "source": [
        "from sklearn.preprocessing import MinMaxScaler\n",
        "\n",
        "scaler = MinMaxScaler()\n",
        "scaled_data = scaler.fit_transform(data.drop(columns=['datetime']))\n",
        "data_scaled = pd.DataFrame(scaled_data, columns=data.columns[:-1])\n",
        "data_scaled['datetime'] = data['datetime']\n",
        "print(data_scaled.head())"
      ],
      "metadata": {
        "colab": {
          "base_uri": "https://localhost:8080/"
        },
        "id": "PhGmBTU0waph",
        "outputId": "85501c69-a18b-409c-bd46-333c5bbdee38"
      },
      "execution_count": 10,
      "outputs": [
        {
          "output_type": "stream",
          "name": "stdout",
          "text": [
            "        T2M      QV2M      RH2M  PRECTOTCORR        PS     WS10M     WD10M  \\\n",
            "0  0.978654  0.988377  0.997552     0.980296  0.998711  0.988131  0.866312   \n",
            "1  0.978325  0.988260  0.997725     0.980296  0.998684  0.988358  0.873789   \n",
            "2  0.977976  0.988083  0.998007     0.980296  0.998675  0.988694  0.881905   \n",
            "3  0.977666  0.987965  0.998462     0.980296  0.998647  0.988950  0.889073   \n",
            "4  0.977462  0.987965  0.999199     0.980296  0.998629  0.989029  0.891847   \n",
            "\n",
            "             datetime  \n",
            "0 2024-01-01 00:00:00  \n",
            "1 2024-01-01 01:00:00  \n",
            "2 2024-01-01 02:00:00  \n",
            "3 2024-01-01 03:00:00  \n",
            "4 2024-01-01 04:00:00  \n"
          ]
        }
      ]
    },
    {
      "cell_type": "code",
      "source": [
        "import numpy as np\n",
        "\n",
        "def create_sequences(data, sequence_length):\n",
        "    X, y = [], []\n",
        "    for i in range(len(data) - sequence_length):\n",
        "        X.append(data[i:i+sequence_length, :-1])\n",
        "        y.append(data[i+sequence_length, 0])\n",
        "    return np.array(X), np.array(y)\n",
        "\n",
        "sequence_length = 24\n",
        "numeric_data = data_scaled.drop(columns=['datetime']).values\n",
        "X, y = create_sequences(numeric_data, sequence_length)\n",
        "\n",
        "print(\"X shape:\", X.shape)\n",
        "print(\"y shape:\", y.shape)"
      ],
      "metadata": {
        "colab": {
          "base_uri": "https://localhost:8080/"
        },
        "id": "l5WrFCZAwmA5",
        "outputId": "423b6b5b-ae23-4419-eb81-d233fd2be127"
      },
      "execution_count": 11,
      "outputs": [
        {
          "output_type": "stream",
          "name": "stdout",
          "text": [
            "X shape: (8256, 24, 6)\n",
            "y shape: (8256,)\n"
          ]
        }
      ]
    },
    {
      "cell_type": "code",
      "source": [
        "from sklearn.model_selection import train_test_split\n",
        "\n",
        "X_train, X_test, y_train, y_test = train_test_split(X, y, test_size=0.2, random_state=42)\n",
        "\n",
        "print(\"Eğitim verisi şekli:\", X_train.shape)\n",
        "print(\"Test verisi şekli:\", X_test.shape)\n"
      ],
      "metadata": {
        "colab": {
          "base_uri": "https://localhost:8080/"
        },
        "id": "OM-pN2GSw24R",
        "outputId": "6d711a8a-c076-4d30-d398-a68dbcd6d565"
      },
      "execution_count": null,
      "outputs": [
        {
          "output_type": "stream",
          "name": "stdout",
          "text": [
            "Eğitim verisi şekli: (6604, 24, 6)\n",
            "Test verisi şekli: (1652, 24, 6)\n"
          ]
        }
      ]
    },
    {
      "cell_type": "code",
      "source": [
        "!git clone https://github.com/zhouhaoyi/Informer2020.git"
      ],
      "metadata": {
        "colab": {
          "base_uri": "https://localhost:8080/"
        },
        "id": "hIOLXvggxHqf",
        "outputId": "f8f86199-2f1f-40c6-ebb2-31862ece121c"
      },
      "execution_count": 12,
      "outputs": [
        {
          "output_type": "stream",
          "name": "stdout",
          "text": [
            "Cloning into 'Informer2020'...\n",
            "remote: Enumerating objects: 576, done.\u001b[K\n",
            "remote: Counting objects: 100% (225/225), done.\u001b[K\n",
            "remote: Compressing objects: 100% (40/40), done.\u001b[K\n",
            "remote: Total 576 (delta 200), reused 185 (delta 185), pack-reused 351 (from 1)\u001b[K\n",
            "Receiving objects: 100% (576/576), 6.48 MiB | 11.93 MiB/s, done.\n",
            "Resolving deltas: 100% (336/336), done.\n"
          ]
        }
      ]
    },
    {
      "cell_type": "code",
      "source": [
        "%cd Informer2020"
      ],
      "metadata": {
        "colab": {
          "base_uri": "https://localhost:8080/"
        },
        "id": "Z4IlWK3dxVoz",
        "outputId": "0b951a7c-e40a-4f62-f6d4-8ea5784be6ba"
      },
      "execution_count": 2,
      "outputs": [
        {
          "output_type": "stream",
          "name": "stdout",
          "text": [
            "/content/Informer2020\n"
          ]
        }
      ]
    },
    {
      "cell_type": "code",
      "source": [
        "!pip install -r requirements.txt"
      ],
      "metadata": {
        "id": "lM60h-BPxo-_"
      },
      "execution_count": 5,
      "outputs": []
    },
    {
      "cell_type": "code",
      "source": [
        "import pandas as pd\n",
        "df = pd.read_csv('/content/temiz_veri.csv')\n",
        "print(df.columns.tolist())"
      ],
      "metadata": {
        "colab": {
          "base_uri": "https://localhost:8080/"
        },
        "id": "uFbzDddBxqzv",
        "outputId": "538636b0-c3f4-4e75-f2fd-adcab3d7c4c1"
      },
      "execution_count": 6,
      "outputs": [
        {
          "output_type": "stream",
          "name": "stdout",
          "text": [
            "['T2M', 'QV2M', 'RH2M', 'PRECTOTCORR', 'PS', 'WS10M', 'WD10M', 'datetime']\n"
          ]
        }
      ]
    },
    {
      "cell_type": "code",
      "source": [
        "df.columns = df.columns.str.strip()\n",
        "df.to_csv('/content/temiz_veri_cleaned.csv', index=False)\n"
      ],
      "metadata": {
        "id": "Fi3Yonr4y4Bh"
      },
      "execution_count": 7,
      "outputs": []
    },
    {
      "cell_type": "code",
      "source": [
        "import pandas as pd\n",
        "df = pd.read_csv('/content/temiz_veri_cleaned.csv')\n",
        "print(df.columns.tolist())\n"
      ],
      "metadata": {
        "colab": {
          "base_uri": "https://localhost:8080/"
        },
        "id": "F7bLswcr0ge2",
        "outputId": "28a588d0-d545-4c02-b490-2a55abbdf23a"
      },
      "execution_count": 8,
      "outputs": [
        {
          "output_type": "stream",
          "name": "stdout",
          "text": [
            "['T2M', 'QV2M', 'RH2M', 'PRECTOTCORR', 'PS', 'WS10M', 'WD10M', 'datetime']\n"
          ]
        }
      ]
    },
    {
      "cell_type": "code",
      "source": [
        "\n",
        "file_path = '/content/Informer2020/data/data_loader.py'\n",
        "\n",
        "with open(file_path, 'r') as file:\n",
        "    data_loader_content = file.read()\n",
        "\n",
        "print(data_loader_content)\n"
      ],
      "metadata": {
        "colab": {
          "base_uri": "https://localhost:8080/"
        },
        "id": "xb8vtShP0kin",
        "outputId": "ffff9412-fe9a-466a-fa4b-d0a456d36eed"
      },
      "execution_count": 9,
      "outputs": [
        {
          "output_type": "stream",
          "name": "stdout",
          "text": [
            "import os\n",
            "import numpy as np\n",
            "import pandas as pd\n",
            "\n",
            "import torch\n",
            "from torch.utils.data import Dataset, DataLoader\n",
            "# from sklearn.preprocessing import StandardScaler\n",
            "\n",
            "from utils.tools import StandardScaler\n",
            "from utils.timefeatures import time_features\n",
            "\n",
            "import warnings\n",
            "warnings.filterwarnings('ignore')\n",
            "\n",
            "class Dataset_ETT_hour(Dataset):\n",
            "    def __init__(self, root_path, flag='train', size=None, \n",
            "                 features='S', data_path='ETTh1.csv', \n",
            "                 target='OT', scale=True, inverse=False, timeenc=0, freq='h', cols=None):\n",
            "        # size [seq_len, label_len, pred_len]\n",
            "        # info\n",
            "        if size == None:\n",
            "            self.seq_len = 24*4*4\n",
            "            self.label_len = 24*4\n",
            "            self.pred_len = 24*4\n",
            "        else:\n",
            "            self.seq_len = size[0]\n",
            "            self.label_len = size[1]\n",
            "            self.pred_len = size[2]\n",
            "        # init\n",
            "        assert flag in ['train', 'test', 'val']\n",
            "        type_map = {'train':0, 'val':1, 'test':2}\n",
            "        self.set_type = type_map[flag]\n",
            "        \n",
            "        self.features = features\n",
            "        self.target = target\n",
            "        self.scale = scale\n",
            "        self.inverse = inverse\n",
            "        self.timeenc = timeenc\n",
            "        self.freq = freq\n",
            "        \n",
            "        self.root_path = root_path\n",
            "        self.data_path = data_path\n",
            "        self.__read_data__()\n",
            "\n",
            "    def __read_data__(self):\n",
            "        self.scaler = StandardScaler()\n",
            "        df_raw = pd.read_csv(os.path.join(self.root_path,\n",
            "                                          self.data_path))\n",
            "\n",
            "        border1s = [0, 12*30*24 - self.seq_len, 12*30*24+4*30*24 - self.seq_len]\n",
            "        border2s = [12*30*24, 12*30*24+4*30*24, 12*30*24+8*30*24]\n",
            "        border1 = border1s[self.set_type]\n",
            "        border2 = border2s[self.set_type]\n",
            "        \n",
            "        if self.features=='M' or self.features=='MS':\n",
            "            cols_data = df_raw.columns[1:]\n",
            "            df_data = df_raw[cols_data]\n",
            "        elif self.features=='S':\n",
            "            df_data = df_raw[[self.target]]\n",
            "\n",
            "        if self.scale:\n",
            "            train_data = df_data[border1s[0]:border2s[0]]\n",
            "            self.scaler.fit(train_data.values)\n",
            "            data = self.scaler.transform(df_data.values)\n",
            "        else:\n",
            "            data = df_data.values\n",
            "            \n",
            "        df_stamp = df_raw[['date']][border1:border2]\n",
            "        df_stamp['date'] = pd.to_datetime(df_stamp.date)\n",
            "        data_stamp = time_features(df_stamp, timeenc=self.timeenc, freq=self.freq)\n",
            "\n",
            "        self.data_x = data[border1:border2]\n",
            "        if self.inverse:\n",
            "            self.data_y = df_data.values[border1:border2]\n",
            "        else:\n",
            "            self.data_y = data[border1:border2]\n",
            "        self.data_stamp = data_stamp\n",
            "    \n",
            "    def __getitem__(self, index):\n",
            "        s_begin = index\n",
            "        s_end = s_begin + self.seq_len\n",
            "        r_begin = s_end - self.label_len \n",
            "        r_end = r_begin + self.label_len + self.pred_len\n",
            "\n",
            "        seq_x = self.data_x[s_begin:s_end]\n",
            "        if self.inverse:\n",
            "            seq_y = np.concatenate([self.data_x[r_begin:r_begin+self.label_len], self.data_y[r_begin+self.label_len:r_end]], 0)\n",
            "        else:\n",
            "            seq_y = self.data_y[r_begin:r_end]\n",
            "        seq_x_mark = self.data_stamp[s_begin:s_end]\n",
            "        seq_y_mark = self.data_stamp[r_begin:r_end]\n",
            "\n",
            "        return seq_x, seq_y, seq_x_mark, seq_y_mark\n",
            "    \n",
            "    def __len__(self):\n",
            "        return len(self.data_x) - self.seq_len- self.pred_len + 1\n",
            "\n",
            "    def inverse_transform(self, data):\n",
            "        return self.scaler.inverse_transform(data)\n",
            "\n",
            "class Dataset_ETT_minute(Dataset):\n",
            "    def __init__(self, root_path, flag='train', size=None, \n",
            "                 features='S', data_path='ETTm1.csv', \n",
            "                 target='OT', scale=True, inverse=False, timeenc=0, freq='t', cols=None):\n",
            "        # size [seq_len, label_len, pred_len]\n",
            "        # info\n",
            "        if size == None:\n",
            "            self.seq_len = 24*4*4\n",
            "            self.label_len = 24*4\n",
            "            self.pred_len = 24*4\n",
            "        else:\n",
            "            self.seq_len = size[0]\n",
            "            self.label_len = size[1]\n",
            "            self.pred_len = size[2]\n",
            "        # init\n",
            "        assert flag in ['train', 'test', 'val']\n",
            "        type_map = {'train':0, 'val':1, 'test':2}\n",
            "        self.set_type = type_map[flag]\n",
            "        \n",
            "        self.features = features\n",
            "        self.target = target\n",
            "        self.scale = scale\n",
            "        self.inverse = inverse\n",
            "        self.timeenc = timeenc\n",
            "        self.freq = freq\n",
            "        \n",
            "        self.root_path = root_path\n",
            "        self.data_path = data_path\n",
            "        self.__read_data__()\n",
            "\n",
            "    def __read_data__(self):\n",
            "        self.scaler = StandardScaler()\n",
            "        df_raw = pd.read_csv(os.path.join(self.root_path,\n",
            "                                          self.data_path))\n",
            "\n",
            "        border1s = [0, 12*30*24*4 - self.seq_len, 12*30*24*4+4*30*24*4 - self.seq_len]\n",
            "        border2s = [12*30*24*4, 12*30*24*4+4*30*24*4, 12*30*24*4+8*30*24*4]\n",
            "        border1 = border1s[self.set_type]\n",
            "        border2 = border2s[self.set_type]\n",
            "        \n",
            "        if self.features=='M' or self.features=='MS':\n",
            "            cols_data = df_raw.columns[1:]\n",
            "            df_data = df_raw[cols_data]\n",
            "        elif self.features=='S':\n",
            "            df_data = df_raw[[self.target]]\n",
            "\n",
            "        if self.scale:\n",
            "            train_data = df_data[border1s[0]:border2s[0]]\n",
            "            self.scaler.fit(train_data.values)\n",
            "            data = self.scaler.transform(df_data.values)\n",
            "        else:\n",
            "            data = df_data.values\n",
            "            \n",
            "        df_stamp = df_raw[['date']][border1:border2]\n",
            "        df_stamp['date'] = pd.to_datetime(df_stamp.date)\n",
            "        data_stamp = time_features(df_stamp, timeenc=self.timeenc, freq=self.freq)\n",
            "        \n",
            "        self.data_x = data[border1:border2]\n",
            "        if self.inverse:\n",
            "            self.data_y = df_data.values[border1:border2]\n",
            "        else:\n",
            "            self.data_y = data[border1:border2]\n",
            "        self.data_stamp = data_stamp\n",
            "    \n",
            "    def __getitem__(self, index):\n",
            "        s_begin = index\n",
            "        s_end = s_begin + self.seq_len\n",
            "        r_begin = s_end - self.label_len\n",
            "        r_end = r_begin + self.label_len + self.pred_len\n",
            "\n",
            "        seq_x = self.data_x[s_begin:s_end]\n",
            "        if self.inverse:\n",
            "            seq_y = np.concatenate([self.data_x[r_begin:r_begin+self.label_len], self.data_y[r_begin+self.label_len:r_end]], 0)\n",
            "        else:\n",
            "            seq_y = self.data_y[r_begin:r_end]\n",
            "        seq_x_mark = self.data_stamp[s_begin:s_end]\n",
            "        seq_y_mark = self.data_stamp[r_begin:r_end]\n",
            "\n",
            "        return seq_x, seq_y, seq_x_mark, seq_y_mark\n",
            "    \n",
            "    def __len__(self):\n",
            "        return len(self.data_x) - self.seq_len - self.pred_len + 1\n",
            "\n",
            "    def inverse_transform(self, data):\n",
            "        return self.scaler.inverse_transform(data)\n",
            "\n",
            "\n",
            "class Dataset_Custom(Dataset):\n",
            "    def __init__(self, root_path, flag='train', size=None, \n",
            "                 features='S', data_path='ETTh1.csv', \n",
            "                 target='OT', scale=True, inverse=False, timeenc=0, freq='h', cols=None):\n",
            "        # size [seq_len, label_len, pred_len]\n",
            "        # info\n",
            "        if size == None:\n",
            "            self.seq_len = 24*4*4\n",
            "            self.label_len = 24*4\n",
            "            self.pred_len = 24*4\n",
            "        else:\n",
            "            self.seq_len = size[0]\n",
            "            self.label_len = size[1]\n",
            "            self.pred_len = size[2]\n",
            "        # init\n",
            "        assert flag in ['train', 'test', 'val']\n",
            "        type_map = {'train':0, 'val':1, 'test':2}\n",
            "        self.set_type = type_map[flag]\n",
            "        \n",
            "        self.features = features\n",
            "        self.target = target\n",
            "        self.scale = scale\n",
            "        self.inverse = inverse\n",
            "        self.timeenc = timeenc\n",
            "        self.freq = freq\n",
            "        self.cols=cols\n",
            "        self.root_path = root_path\n",
            "        self.data_path = data_path\n",
            "        self.__read_data__()\n",
            "\n",
            "    def __read_data__(self):\n",
            "        self.scaler = StandardScaler()\n",
            "        df_raw = pd.read_csv(os.path.join(self.root_path,\n",
            "                                          self.data_path))\n",
            "        '''\n",
            "        df_raw.columns: ['date', ...(other features), target feature]\n",
            "        '''\n",
            "        # cols = list(df_raw.columns); \n",
            "        if self.cols:\n",
            "            cols=self.cols.copy()\n",
            "            cols.remove(self.target)\n",
            "        else:\n",
            "            cols = list(df_raw.columns); cols.remove(self.target); cols.remove('date')\n",
            "        df_raw = df_raw[['date']+cols+[self.target]]\n",
            "\n",
            "        num_train = int(len(df_raw)*0.7)\n",
            "        num_test = int(len(df_raw)*0.2)\n",
            "        num_vali = len(df_raw) - num_train - num_test\n",
            "        border1s = [0, num_train-self.seq_len, len(df_raw)-num_test-self.seq_len]\n",
            "        border2s = [num_train, num_train+num_vali, len(df_raw)]\n",
            "        border1 = border1s[self.set_type]\n",
            "        border2 = border2s[self.set_type]\n",
            "        \n",
            "        if self.features=='M' or self.features=='MS':\n",
            "            cols_data = df_raw.columns[1:]\n",
            "            df_data = df_raw[cols_data]\n",
            "        elif self.features=='S':\n",
            "            df_data = df_raw[[self.target]]\n",
            "\n",
            "        if self.scale:\n",
            "            train_data = df_data[border1s[0]:border2s[0]]\n",
            "            self.scaler.fit(train_data.values)\n",
            "            data = self.scaler.transform(df_data.values)\n",
            "        else:\n",
            "            data = df_data.values\n",
            "            \n",
            "        df_stamp = df_raw[['date']][border1:border2]\n",
            "        df_stamp['date'] = pd.to_datetime(df_stamp.date)\n",
            "        data_stamp = time_features(df_stamp, timeenc=self.timeenc, freq=self.freq)\n",
            "\n",
            "        self.data_x = data[border1:border2]\n",
            "        if self.inverse:\n",
            "            self.data_y = df_data.values[border1:border2]\n",
            "        else:\n",
            "            self.data_y = data[border1:border2]\n",
            "        self.data_stamp = data_stamp\n",
            "    \n",
            "    def __getitem__(self, index):\n",
            "        s_begin = index\n",
            "        s_end = s_begin + self.seq_len\n",
            "        r_begin = s_end - self.label_len \n",
            "        r_end = r_begin + self.label_len + self.pred_len\n",
            "\n",
            "        seq_x = self.data_x[s_begin:s_end]\n",
            "        if self.inverse:\n",
            "            seq_y = np.concatenate([self.data_x[r_begin:r_begin+self.label_len], self.data_y[r_begin+self.label_len:r_end]], 0)\n",
            "        else:\n",
            "            seq_y = self.data_y[r_begin:r_end]\n",
            "        seq_x_mark = self.data_stamp[s_begin:s_end]\n",
            "        seq_y_mark = self.data_stamp[r_begin:r_end]\n",
            "\n",
            "        return seq_x, seq_y, seq_x_mark, seq_y_mark\n",
            "    \n",
            "    def __len__(self):\n",
            "        return len(self.data_x) - self.seq_len- self.pred_len + 1\n",
            "\n",
            "    def inverse_transform(self, data):\n",
            "        return self.scaler.inverse_transform(data)\n",
            "\n",
            "class Dataset_Pred(Dataset):\n",
            "    def __init__(self, root_path, flag='pred', size=None, \n",
            "                 features='S', data_path='ETTh1.csv', \n",
            "                 target='OT', scale=True, inverse=False, timeenc=0, freq='15min', cols=None):\n",
            "        # size [seq_len, label_len, pred_len]\n",
            "        # info\n",
            "        if size == None:\n",
            "            self.seq_len = 24*4*4\n",
            "            self.label_len = 24*4\n",
            "            self.pred_len = 24*4\n",
            "        else:\n",
            "            self.seq_len = size[0]\n",
            "            self.label_len = size[1]\n",
            "            self.pred_len = size[2]\n",
            "        # init\n",
            "        assert flag in ['pred']\n",
            "        \n",
            "        self.features = features\n",
            "        self.target = target\n",
            "        self.scale = scale\n",
            "        self.inverse = inverse\n",
            "        self.timeenc = timeenc\n",
            "        self.freq = freq\n",
            "        self.cols=cols\n",
            "        self.root_path = root_path\n",
            "        self.data_path = data_path\n",
            "        self.__read_data__()\n",
            "\n",
            "    def __read_data__(self):\n",
            "        self.scaler = StandardScaler()\n",
            "        df_raw = pd.read_csv(os.path.join(self.root_path,\n",
            "                                          self.data_path))\n",
            "        '''\n",
            "        df_raw.columns: ['date', ...(other features), target feature]\n",
            "        '''\n",
            "        if self.cols:\n",
            "            cols=self.cols.copy()\n",
            "            cols.remove(self.target)\n",
            "        else:\n",
            "            cols = list(df_raw.columns); cols.remove(self.target); cols.remove('date')\n",
            "        df_raw = df_raw[['date']+cols+[self.target]]\n",
            "        \n",
            "        border1 = len(df_raw)-self.seq_len\n",
            "        border2 = len(df_raw)\n",
            "        \n",
            "        if self.features=='M' or self.features=='MS':\n",
            "            cols_data = df_raw.columns[1:]\n",
            "            df_data = df_raw[cols_data]\n",
            "        elif self.features=='S':\n",
            "            df_data = df_raw[[self.target]]\n",
            "\n",
            "        if self.scale:\n",
            "            self.scaler.fit(df_data.values)\n",
            "            data = self.scaler.transform(df_data.values)\n",
            "        else:\n",
            "            data = df_data.values\n",
            "            \n",
            "        tmp_stamp = df_raw[['date']][border1:border2]\n",
            "        tmp_stamp['date'] = pd.to_datetime(tmp_stamp.date)\n",
            "        pred_dates = pd.date_range(tmp_stamp.date.values[-1], periods=self.pred_len+1, freq=self.freq)\n",
            "        \n",
            "        df_stamp = pd.DataFrame(columns = ['date'])\n",
            "        df_stamp.date = list(tmp_stamp.date.values) + list(pred_dates[1:])\n",
            "        data_stamp = time_features(df_stamp, timeenc=self.timeenc, freq=self.freq[-1:])\n",
            "\n",
            "        self.data_x = data[border1:border2]\n",
            "        if self.inverse:\n",
            "            self.data_y = df_data.values[border1:border2]\n",
            "        else:\n",
            "            self.data_y = data[border1:border2]\n",
            "        self.data_stamp = data_stamp\n",
            "    \n",
            "    def __getitem__(self, index):\n",
            "        s_begin = index\n",
            "        s_end = s_begin + self.seq_len\n",
            "        r_begin = s_end - self.label_len\n",
            "        r_end = r_begin + self.label_len + self.pred_len\n",
            "\n",
            "        seq_x = self.data_x[s_begin:s_end]\n",
            "        if self.inverse:\n",
            "            seq_y = self.data_x[r_begin:r_begin+self.label_len]\n",
            "        else:\n",
            "            seq_y = self.data_y[r_begin:r_begin+self.label_len]\n",
            "        seq_x_mark = self.data_stamp[s_begin:s_end]\n",
            "        seq_y_mark = self.data_stamp[r_begin:r_end]\n",
            "\n",
            "        return seq_x, seq_y, seq_x_mark, seq_y_mark\n",
            "    \n",
            "    def __len__(self):\n",
            "        return len(self.data_x) - self.seq_len + 1\n",
            "\n",
            "    def inverse_transform(self, data):\n",
            "        return self.scaler.inverse_transform(data)\n",
            "\n"
          ]
        }
      ]
    },
    {
      "cell_type": "code",
      "source": [
        "import pandas as pd\n",
        "\n",
        "\n",
        "data_path = \"/content/temiz_veri_cleaned.csv\"\n",
        "df = pd.read_csv(data_path)\n",
        "\n",
        "\n",
        "if 'datetime' not in df.columns:\n",
        "    raise ValueError(\"Veri setinde 'datetime' sütunu eksik!\")\n",
        "\n",
        "\n",
        "print(\"Veri kontrolü başarılı, sütunlar:\", df.columns)\n"
      ],
      "metadata": {
        "colab": {
          "base_uri": "https://localhost:8080/"
        },
        "id": "IVAIZNdA1eJD",
        "outputId": "8b368fec-4d08-43f4-ca92-3e737be7effa"
      },
      "execution_count": 10,
      "outputs": [
        {
          "output_type": "stream",
          "name": "stdout",
          "text": [
            "Veri kontrolü başarılı, sütunlar: Index(['T2M', 'QV2M', 'RH2M', 'PRECTOTCORR', 'PS', 'WS10M', 'WD10M',\n",
            "       'datetime'],\n",
            "      dtype='object')\n"
          ]
        }
      ]
    },
    {
      "cell_type": "code",
      "source": [
        "import pandas as pd\n",
        "\n",
        "\n",
        "file_path = \"/content/Informer2020/temiz_veri_cleaned.csv\"\n",
        "data = pd.read_csv(file_path)\n",
        "\n",
        "\n",
        "data.rename(columns={\"datetime\": \"date\"}, inplace=True)\n",
        "\n",
        "\n",
        "data.to_csv(file_path, index=False)\n"
      ],
      "metadata": {
        "id": "vLuybcAC2Jhl"
      },
      "execution_count": 12,
      "outputs": []
    },
    {
      "cell_type": "code",
      "source": [
        "from data.data_loader import Dataset_Custom\n",
        "\n",
        "root_path = \"/content/Informer2020\"\n",
        "data_path = \"temiz_veri_cleaned.csv\"\n",
        "\n",
        "dataset = Dataset_Custom(\n",
        "    root_path=root_path,\n",
        "    data_path=data_path,\n",
        "    flag='train',\n",
        "    size=[24, 24, 24],\n",
        "    features='S',\n",
        "    target='T2M',\n",
        "    scale=True,\n",
        "    timeenc=0,\n",
        "    freq='h'\n",
        ")\n"
      ],
      "metadata": {
        "id": "569clL-H5AWE"
      },
      "execution_count": 13,
      "outputs": []
    },
    {
      "cell_type": "code",
      "source": [
        "print(f\"Dataset'in uzunluğu: {len(dataset)}\")\n",
        "örnek_veri = dataset[0]\n",
        "print(\"Örnek veri:\", örnek_veri)\n"
      ],
      "metadata": {
        "colab": {
          "base_uri": "https://localhost:8080/"
        },
        "id": "QqrsCGQC5-uc",
        "outputId": "ad5a311f-87e4-4cd2-fd8b-957eff2a5157"
      },
      "execution_count": 14,
      "outputs": [
        {
          "output_type": "stream",
          "name": "stdout",
          "text": [
            "Dataset'in uzunluğu: 5749\n",
            "Örnek veri: (array([[0.06076868],\n",
            "       [0.05775428],\n",
            "       [0.05456255],\n",
            "       [0.05172546],\n",
            "       [0.04986362],\n",
            "       [0.05092753],\n",
            "       [0.05172546],\n",
            "       [0.05332133],\n",
            "       [0.06068003],\n",
            "       [0.0702552 ],\n",
            "       [0.07699329],\n",
            "       [0.08461796],\n",
            "       [0.08976019],\n",
            "       [0.09064678],\n",
            "       [0.0888736 ],\n",
            "       [0.08470662],\n",
            "       [0.07459949],\n",
            "       [0.06972325],\n",
            "       [0.06998922],\n",
            "       [0.06998922],\n",
            "       [0.06732945],\n",
            "       [0.06440371],\n",
            "       [0.06271918],\n",
            "       [0.05970478]]), array([[0.06076868],\n",
            "       [0.05775428],\n",
            "       [0.05456255],\n",
            "       [0.05172546],\n",
            "       [0.04986362],\n",
            "       [0.05092753],\n",
            "       [0.05172546],\n",
            "       [0.05332133],\n",
            "       [0.06068003],\n",
            "       [0.0702552 ],\n",
            "       [0.07699329],\n",
            "       [0.08461796],\n",
            "       [0.08976019],\n",
            "       [0.09064678],\n",
            "       [0.0888736 ],\n",
            "       [0.08470662],\n",
            "       [0.07459949],\n",
            "       [0.06972325],\n",
            "       [0.06998922],\n",
            "       [0.06998922],\n",
            "       [0.06732945],\n",
            "       [0.06440371],\n",
            "       [0.06271918],\n",
            "       [0.05970478],\n",
            "       [0.05580378],\n",
            "       [0.0535873 ],\n",
            "       [0.05190278],\n",
            "       [0.05119351],\n",
            "       [0.0501296 ],\n",
            "       [0.04906569],\n",
            "       [0.04906569],\n",
            "       [0.05048424],\n",
            "       [0.06165528],\n",
            "       [0.06857068],\n",
            "       [0.07158509],\n",
            "       [0.07362424],\n",
            "       [0.07451083],\n",
            "       [0.07442218],\n",
            "       [0.07442218],\n",
            "       [0.07451083],\n",
            "       [0.07300363],\n",
            "       [0.07034386],\n",
            "       [0.06431505],\n",
            "       [0.05305535],\n",
            "       [0.04383481],\n",
            "       [0.03417097],\n",
            "       [0.02725557],\n",
            "       [0.02663496]]), array([[ 1,  1,  0,  0],\n",
            "       [ 1,  1,  0,  1],\n",
            "       [ 1,  1,  0,  2],\n",
            "       [ 1,  1,  0,  3],\n",
            "       [ 1,  1,  0,  4],\n",
            "       [ 1,  1,  0,  5],\n",
            "       [ 1,  1,  0,  6],\n",
            "       [ 1,  1,  0,  7],\n",
            "       [ 1,  1,  0,  8],\n",
            "       [ 1,  1,  0,  9],\n",
            "       [ 1,  1,  0, 10],\n",
            "       [ 1,  1,  0, 11],\n",
            "       [ 1,  1,  0, 12],\n",
            "       [ 1,  1,  0, 13],\n",
            "       [ 1,  1,  0, 14],\n",
            "       [ 1,  1,  0, 15],\n",
            "       [ 1,  1,  0, 16],\n",
            "       [ 1,  1,  0, 17],\n",
            "       [ 1,  1,  0, 18],\n",
            "       [ 1,  1,  0, 19],\n",
            "       [ 1,  1,  0, 20],\n",
            "       [ 1,  1,  0, 21],\n",
            "       [ 1,  1,  0, 22],\n",
            "       [ 1,  1,  0, 23]]), array([[ 1,  1,  0,  0],\n",
            "       [ 1,  1,  0,  1],\n",
            "       [ 1,  1,  0,  2],\n",
            "       [ 1,  1,  0,  3],\n",
            "       [ 1,  1,  0,  4],\n",
            "       [ 1,  1,  0,  5],\n",
            "       [ 1,  1,  0,  6],\n",
            "       [ 1,  1,  0,  7],\n",
            "       [ 1,  1,  0,  8],\n",
            "       [ 1,  1,  0,  9],\n",
            "       [ 1,  1,  0, 10],\n",
            "       [ 1,  1,  0, 11],\n",
            "       [ 1,  1,  0, 12],\n",
            "       [ 1,  1,  0, 13],\n",
            "       [ 1,  1,  0, 14],\n",
            "       [ 1,  1,  0, 15],\n",
            "       [ 1,  1,  0, 16],\n",
            "       [ 1,  1,  0, 17],\n",
            "       [ 1,  1,  0, 18],\n",
            "       [ 1,  1,  0, 19],\n",
            "       [ 1,  1,  0, 20],\n",
            "       [ 1,  1,  0, 21],\n",
            "       [ 1,  1,  0, 22],\n",
            "       [ 1,  1,  0, 23],\n",
            "       [ 1,  2,  1,  0],\n",
            "       [ 1,  2,  1,  1],\n",
            "       [ 1,  2,  1,  2],\n",
            "       [ 1,  2,  1,  3],\n",
            "       [ 1,  2,  1,  4],\n",
            "       [ 1,  2,  1,  5],\n",
            "       [ 1,  2,  1,  6],\n",
            "       [ 1,  2,  1,  7],\n",
            "       [ 1,  2,  1,  8],\n",
            "       [ 1,  2,  1,  9],\n",
            "       [ 1,  2,  1, 10],\n",
            "       [ 1,  2,  1, 11],\n",
            "       [ 1,  2,  1, 12],\n",
            "       [ 1,  2,  1, 13],\n",
            "       [ 1,  2,  1, 14],\n",
            "       [ 1,  2,  1, 15],\n",
            "       [ 1,  2,  1, 16],\n",
            "       [ 1,  2,  1, 17],\n",
            "       [ 1,  2,  1, 18],\n",
            "       [ 1,  2,  1, 19],\n",
            "       [ 1,  2,  1, 20],\n",
            "       [ 1,  2,  1, 21],\n",
            "       [ 1,  2,  1, 22],\n",
            "       [ 1,  2,  1, 23]]))\n"
          ]
        }
      ]
    },
    {
      "cell_type": "code",
      "source": [
        "!python main_informer.py --model informer --data custom --root_path ./ --data_path temiz_veri_cleaned.csv --features S --target T2M --freq h --seq_len 24 --label_len 24 --pred_len 24 --enc_in 1 --dec_in 1 --c_out 1 --train_epochs 10 --batch_size 32 --learning_rate 0.0001\n"
      ],
      "metadata": {
        "colab": {
          "base_uri": "https://localhost:8080/"
        },
        "id": "L_WKHOIt6FFh",
        "outputId": "a8daa5e8-cafd-4e8e-c92c-7a38ac0fecaf"
      },
      "execution_count": 15,
      "outputs": [
        {
          "output_type": "stream",
          "name": "stdout",
          "text": [
            "Args in experiment:\n",
            "Namespace(model='informer', data='custom', root_path='./', data_path='temiz_veri_cleaned.csv', features='S', target='T2M', freq='h', checkpoints='./checkpoints/', seq_len=24, label_len=24, pred_len=24, enc_in=1, dec_in=1, c_out=1, d_model=512, n_heads=8, e_layers=2, d_layers=1, s_layers=[3, 2, 1], d_ff=2048, factor=5, padding=0, distil=True, dropout=0.05, attn='prob', embed='timeF', activation='gelu', output_attention=False, do_predict=False, mix=True, cols=None, num_workers=0, itr=2, train_epochs=10, batch_size=32, patience=3, learning_rate=0.0001, des='test', loss='mse', lradj='type1', use_amp=False, inverse=False, use_gpu=False, gpu=0, use_multi_gpu=False, devices='0,1,2,3', detail_freq='h')\n",
            "Use CPU\n",
            ">>>>>>>start training : informer_custom_ftS_sl24_ll24_pl24_dm512_nh8_el2_dl1_df2048_atprob_fc5_ebtimeF_dtTrue_mxTrue_test_0>>>>>>>>>>>>>>>>>>>>>>>>>>\n",
            "train 5749\n",
            "val 805\n",
            "test 1633\n",
            "\titers: 100, epoch: 1 | loss: 0.0596396\n",
            "\tspeed: 1.6352s/iter; left time: 2765.0462s\n",
            "Epoch: 1 cost time: 294.50085639953613\n",
            "Epoch: 1, Steps: 179 | Train Loss: 0.6315271 Vali Loss: 0.0707238 Test Loss: 0.0594812\n",
            "Validation loss decreased (inf --> 0.070724).  Saving model ...\n",
            "Updating learning rate to 0.0001\n",
            "\titers: 100, epoch: 2 | loss: 0.0156903\n",
            "\tspeed: 3.5641s/iter; left time: 5388.8746s\n",
            "Epoch: 2 cost time: 285.4189085960388\n",
            "Epoch: 2, Steps: 179 | Train Loss: 0.5359630 Vali Loss: 0.0316711 Test Loss: 0.0461905\n",
            "Validation loss decreased (0.070724 --> 0.031671).  Saving model ...\n",
            "Updating learning rate to 5e-05\n",
            "\titers: 100, epoch: 3 | loss: 0.0149018\n",
            "\tspeed: 3.1672s/iter; left time: 4221.8871s\n",
            "Epoch: 3 cost time: 272.8324718475342\n",
            "Epoch: 3, Steps: 179 | Train Loss: 0.4027264 Vali Loss: 0.0029191 Test Loss: 0.0062541\n",
            "Validation loss decreased (0.031671 --> 0.002919).  Saving model ...\n",
            "Updating learning rate to 2.5e-05\n",
            "\titers: 100, epoch: 4 | loss: 0.0063663\n",
            "\tspeed: 3.1522s/iter; left time: 3637.6528s\n",
            "Epoch: 4 cost time: 274.1753213405609\n",
            "Epoch: 4, Steps: 179 | Train Loss: 0.3373455 Vali Loss: 0.0094648 Test Loss: 0.0045867\n",
            "EarlyStopping counter: 1 out of 3\n",
            "Updating learning rate to 1.25e-05\n",
            "\titers: 100, epoch: 5 | loss: 0.0070379\n",
            "\tspeed: 3.2376s/iter; left time: 3156.6864s\n",
            "Epoch: 5 cost time: 279.83944177627563\n",
            "Epoch: 5, Steps: 179 | Train Loss: 0.3179324 Vali Loss: 0.0022447 Test Loss: 0.0017955\n",
            "Validation loss decreased (0.002919 --> 0.002245).  Saving model ...\n",
            "Updating learning rate to 6.25e-06\n",
            "\titers: 100, epoch: 6 | loss: 0.0071952\n",
            "\tspeed: 3.1809s/iter; left time: 2532.0221s\n",
            "Epoch: 6 cost time: 274.6372802257538\n",
            "Epoch: 6, Steps: 179 | Train Loss: 0.3157584 Vali Loss: 0.0020921 Test Loss: 0.0035030\n",
            "Validation loss decreased (0.002245 --> 0.002092).  Saving model ...\n",
            "Updating learning rate to 3.125e-06\n",
            "\titers: 100, epoch: 7 | loss: 0.0051902\n",
            "\tspeed: 3.1838s/iter; left time: 1964.3815s\n",
            "Epoch: 7 cost time: 273.650678396225\n",
            "Epoch: 7, Steps: 179 | Train Loss: 0.3119504 Vali Loss: 0.0051476 Test Loss: 0.0020984\n",
            "EarlyStopping counter: 1 out of 3\n",
            "Updating learning rate to 1.5625e-06\n",
            "\titers: 100, epoch: 8 | loss: 0.0051605\n",
            "\tspeed: 3.1347s/iter; left time: 1372.9778s\n",
            "Epoch: 8 cost time: 271.5727665424347\n",
            "Epoch: 8, Steps: 179 | Train Loss: 0.3086399 Vali Loss: 0.0029793 Test Loss: 0.0019937\n",
            "EarlyStopping counter: 2 out of 3\n",
            "Updating learning rate to 7.8125e-07\n",
            "\titers: 100, epoch: 9 | loss: 0.0044992\n",
            "\tspeed: 3.1547s/iter; left time: 817.0674s\n",
            "Epoch: 9 cost time: 275.62985253334045\n",
            "Epoch: 9, Steps: 179 | Train Loss: 0.3051379 Vali Loss: 0.0030373 Test Loss: 0.0022313\n",
            "EarlyStopping counter: 3 out of 3\n",
            "Early stopping\n",
            ">>>>>>>testing : informer_custom_ftS_sl24_ll24_pl24_dm512_nh8_el2_dl1_df2048_atprob_fc5_ebtimeF_dtTrue_mxTrue_test_0<<<<<<<<<<<<<<<<<<<<<<<<<<<<<<<<<\n",
            "test 1633\n",
            "test shape: (51, 32, 24, 1) (51, 32, 24, 1)\n",
            "test shape: (1632, 24, 1) (1632, 24, 1)\n",
            "mse:0.003449508920311928, mae:0.04969429224729538\n",
            "Use CPU\n",
            ">>>>>>>start training : informer_custom_ftS_sl24_ll24_pl24_dm512_nh8_el2_dl1_df2048_atprob_fc5_ebtimeF_dtTrue_mxTrue_test_1>>>>>>>>>>>>>>>>>>>>>>>>>>\n",
            "train 5749\n",
            "val 805\n",
            "test 1633\n",
            "\titers: 100, epoch: 1 | loss: 0.8642972\n",
            "\tspeed: 1.5352s/iter; left time: 2596.0393s\n",
            "Epoch: 1 cost time: 277.14907217025757\n",
            "Epoch: 1, Steps: 179 | Train Loss: 0.6224368 Vali Loss: 0.0452666 Test Loss: 0.0531013\n",
            "Validation loss decreased (inf --> 0.045267).  Saving model ...\n",
            "Updating learning rate to 0.0001\n",
            "\titers: 100, epoch: 2 | loss: 1.8197206\n",
            "\tspeed: 3.1891s/iter; left time: 4821.8623s\n",
            "Epoch: 2 cost time: 275.8632164001465\n",
            "Epoch: 2, Steps: 179 | Train Loss: 0.5234666 Vali Loss: 0.0182134 Test Loss: 0.0119866\n",
            "Validation loss decreased (0.045267 --> 0.018213).  Saving model ...\n",
            "Updating learning rate to 5e-05\n",
            "\titers: 100, epoch: 3 | loss: 0.0076532\n",
            "\tspeed: 3.1758s/iter; left time: 4233.3726s\n",
            "Epoch: 3 cost time: 274.99725890159607\n",
            "Epoch: 3, Steps: 179 | Train Loss: 0.4797709 Vali Loss: 0.0107450 Test Loss: 0.0190181\n",
            "Validation loss decreased (0.018213 --> 0.010745).  Saving model ...\n",
            "Updating learning rate to 2.5e-05\n",
            "\titers: 100, epoch: 4 | loss: 0.8973513\n",
            "\tspeed: 3.1795s/iter; left time: 3669.0922s\n",
            "Epoch: 4 cost time: 274.7417674064636\n",
            "Epoch: 4, Steps: 179 | Train Loss: 0.4322335 Vali Loss: 0.0184020 Test Loss: 0.0073133\n",
            "EarlyStopping counter: 1 out of 3\n",
            "Updating learning rate to 1.25e-05\n",
            "\titers: 100, epoch: 5 | loss: 0.0050280\n",
            "\tspeed: 3.1687s/iter; left time: 3089.5157s\n",
            "Epoch: 5 cost time: 275.42799854278564\n",
            "Epoch: 5, Steps: 179 | Train Loss: 0.3590585 Vali Loss: 0.0127423 Test Loss: 0.0031898\n",
            "EarlyStopping counter: 2 out of 3\n",
            "Updating learning rate to 6.25e-06\n",
            "\titers: 100, epoch: 6 | loss: 0.0044382\n",
            "\tspeed: 3.1844s/iter; left time: 2534.7738s\n",
            "Epoch: 6 cost time: 276.0415635108948\n",
            "Epoch: 6, Steps: 179 | Train Loss: 0.3317055 Vali Loss: 0.0056845 Test Loss: 0.0038256\n",
            "Validation loss decreased (0.010745 --> 0.005684).  Saving model ...\n",
            "Updating learning rate to 3.125e-06\n",
            "\titers: 100, epoch: 7 | loss: 2.8364995\n",
            "\tspeed: 3.1804s/iter; left time: 1962.3002s\n",
            "Epoch: 7 cost time: 275.81372904777527\n",
            "Epoch: 7, Steps: 179 | Train Loss: 0.3406537 Vali Loss: 0.0039648 Test Loss: 0.0049050\n",
            "Validation loss decreased (0.005684 --> 0.003965).  Saving model ...\n",
            "Updating learning rate to 1.5625e-06\n",
            "\titers: 100, epoch: 8 | loss: 0.9509193\n",
            "\tspeed: 3.1810s/iter; left time: 1393.2693s\n",
            "Epoch: 8 cost time: 275.0744743347168\n",
            "Epoch: 8, Steps: 179 | Train Loss: 0.3257656 Vali Loss: 0.0034084 Test Loss: 0.0060546\n",
            "Validation loss decreased (0.003965 --> 0.003408).  Saving model ...\n",
            "Updating learning rate to 7.8125e-07\n",
            "\titers: 100, epoch: 9 | loss: 2.4516139\n",
            "\tspeed: 3.1688s/iter; left time: 820.7289s\n",
            "Epoch: 9 cost time: 274.60964012145996\n",
            "Epoch: 9, Steps: 179 | Train Loss: 0.3324970 Vali Loss: 0.0042071 Test Loss: 0.0055488\n",
            "EarlyStopping counter: 1 out of 3\n",
            "Updating learning rate to 3.90625e-07\n",
            "\titers: 100, epoch: 10 | loss: 0.0056064\n",
            "\tspeed: 3.1758s/iter; left time: 254.0623s\n",
            "Epoch: 10 cost time: 276.037353515625\n",
            "Epoch: 10, Steps: 179 | Train Loss: 0.3236902 Vali Loss: 0.0049635 Test Loss: 0.0049158\n",
            "EarlyStopping counter: 2 out of 3\n",
            "Updating learning rate to 1.953125e-07\n",
            ">>>>>>>testing : informer_custom_ftS_sl24_ll24_pl24_dm512_nh8_el2_dl1_df2048_atprob_fc5_ebtimeF_dtTrue_mxTrue_test_1<<<<<<<<<<<<<<<<<<<<<<<<<<<<<<<<<\n",
            "test 1633\n",
            "test shape: (51, 32, 24, 1) (51, 32, 24, 1)\n",
            "test shape: (1632, 24, 1) (1632, 24, 1)\n",
            "mse:0.0060294936411082745, mae:0.06676292419433594\n"
          ]
        }
      ]
    },
    {
      "cell_type": "code",
      "source": [
        "import os\n",
        "import shutil\n",
        "\n",
        "\n",
        "source_path = \"/content\"\n",
        "\n",
        "\n",
        "destination_path = \"/content/drive/My Drive/YAZLAB_YEDEK\"\n",
        "\n",
        "\n",
        "for item in os.listdir(source_path):\n",
        "    item_path = os.path.join(source_path, item)\n",
        "\n",
        "\n",
        "    if item == \"drive\":\n",
        "        continue\n",
        "\n",
        "\n",
        "    target_path = os.path.join(destination_path, item)\n",
        "\n",
        "\n",
        "    if os.path.isdir(item_path):\n",
        "        shutil.copytree(item_path, target_path, dirs_exist_ok=True)\n",
        "    else:\n",
        "        shutil.copy2(item_path, target_path)\n",
        "\n",
        "print(f\"'content' klasöründeki drive dışında her şey '{destination_path}' yoluna kopyalandı!\")\n"
      ],
      "metadata": {
        "colab": {
          "base_uri": "https://localhost:8080/"
        },
        "id": "6Q68evJv6egP",
        "outputId": "d25b33a0-50cd-4766-c3cf-b2a116e77688"
      },
      "execution_count": 17,
      "outputs": [
        {
          "output_type": "stream",
          "name": "stdout",
          "text": [
            "'content' klasöründeki drive dışında her şey '/content/drive/My Drive/YAZLAB_YEDEK' yoluna kopyalandı!\n"
          ]
        }
      ]
    },
    {
      "cell_type": "code",
      "source": [
        "from models.model import Informer\n",
        "\n",
        "model = Informer(\n",
        "    enc_in=1,\n",
        "    dec_in=1,\n",
        "    c_out=1,\n",
        "    seq_len=24,\n",
        "    label_len=24,\n",
        "    out_len=24,\n",
        "    factor=5,\n",
        "    d_model=512,\n",
        "    n_heads=8,\n",
        "    e_layers=2,\n",
        "    d_layers=1,\n",
        "    d_ff=2048,\n",
        "    dropout=0.05,\n",
        "    attn='prob',\n",
        "    embed='timeF',\n",
        "    freq='h',\n",
        "    activation='gelu',\n",
        "    output_attention=False,\n",
        "    distil=True,\n",
        "    mix=True,\n",
        "    device=torch.device('cuda:0')  # veya torch.device('cpu')\n",
        ")\n"
      ],
      "metadata": {
        "id": "-iwak879Tc92"
      },
      "execution_count": 23,
      "outputs": []
    },
    {
      "cell_type": "code",
      "source": [
        "import torch\n",
        "\n",
        "\n",
        "model_checkpoint = './checkpoints/informer_custom_ftS_sl24_ll24_pl24_dm512_nh8_el2_dl1_df2048_atprob_fc5_ebtimeF_dtTrue_mxTrue_test_1/checkpoint.pth'\n",
        "\n",
        "\n",
        "model.load_state_dict(torch.load(model_checkpoint, map_location=torch.device('cpu')))\n"
      ],
      "metadata": {
        "colab": {
          "base_uri": "https://localhost:8080/"
        },
        "id": "ZlaLz_YG1k0c",
        "outputId": "72a8b76d-53cc-476c-ee36-8d0d8aee3fb1"
      },
      "execution_count": 35,
      "outputs": [
        {
          "output_type": "execute_result",
          "data": {
            "text/plain": [
              "<All keys matched successfully>"
            ]
          },
          "metadata": {},
          "execution_count": 35
        }
      ]
    },
    {
      "cell_type": "code",
      "source": [
        "import numpy as np\n",
        "import torch\n",
        "\n",
        "\n",
        "batch_size = 32\n",
        "seq_len = 24\n",
        "pred_len = 24\n",
        "feature_dim = 1\n",
        "time_dim = 4\n",
        "\n",
        "x_test = torch.randn(batch_size, seq_len, feature_dim)\n",
        "x_mark_test = torch.randn(batch_size, seq_len, time_dim)\n",
        "y_test = torch.randn(batch_size, pred_len, feature_dim)\n"
      ],
      "metadata": {
        "id": "_NRgHTny3Hxn"
      },
      "execution_count": 36,
      "outputs": []
    },
    {
      "cell_type": "code",
      "source": [
        "\n",
        "from sklearn.metrics import mean_squared_error, mean_absolute_error, r2_score\n",
        "\n",
        "\n",
        "y_test_np = y_test.cpu().numpy() if isinstance(y_test, torch.Tensor) else y_test\n",
        "predictions_np = predictions.cpu().numpy() if isinstance(predictions, torch.Tensor) else predictions\n",
        "\n",
        "\n",
        "mse = mean_squared_error(y_test_np.flatten(), predictions_np.flatten())\n",
        "mae = mean_absolute_error(y_test_np.flatten(), predictions_np.flatten())\n",
        "rmse = np.sqrt(mse)\n",
        "r2 = r2_score(y_test_np.flatten(), predictions_np.flatten())\n",
        "\n",
        "print(f\"MSE: {mse}\")\n",
        "print(f\"MAE: {mae}\")\n",
        "print(f\"RMSE: {rmse}\")\n",
        "print(f\"R^2: {r2}\")\n"
      ],
      "metadata": {
        "colab": {
          "base_uri": "https://localhost:8080/"
        },
        "id": "rDVTmXU_4iZg",
        "outputId": "275f542b-ecad-4ca4-b569-ee55d4fdab5f"
      },
      "execution_count": 37,
      "outputs": [
        {
          "output_type": "stream",
          "name": "stdout",
          "text": [
            "MSE: 1.5809775590896606\n",
            "MAE: 0.9769824147224426\n",
            "RMSE: 1.2573693009969906\n",
            "R^2: -0.537055492401123\n"
          ]
        }
      ]
    },
    {
      "cell_type": "code",
      "source": [
        "import matplotlib.pyplot as plt\n",
        "\n",
        "plt.figure(figsize=(10, 6))\n",
        "plt.plot(y_test_np.flatten(), label=\"Gerçek Değerler\")\n",
        "plt.plot(predictions.flatten(), label=\"Tahminler\")\n",
        "plt.legend()\n",
        "plt.title(\"Model Tahminleri vs Gerçek Değerler\")\n",
        "plt.show()\n"
      ],
      "metadata": {
        "colab": {
          "base_uri": "https://localhost:8080/",
          "height": 545
        },
        "id": "p8RlzQTD4j5T",
        "outputId": "7bb64462-a707-4a85-e72e-56806d0a7d07"
      },
      "execution_count": 38,
      "outputs": [
        {
          "output_type": "display_data",
          "data": {
            "text/plain": [
              "<Figure size 1000x600 with 1 Axes>"
            ],
            "image/png": "[encoded data removed]"
          },
          "metadata": {}
        }
      ]
    },
    {
      "cell_type": "code",
      "source": [
        "from models.model import Informer\n",
        "import torch\n",
        "\n",
        "model = Informer(\n",
        "    enc_in=1,\n",
        "    dec_in=1,\n",
        "    c_out=1,\n",
        "    seq_len=24,\n",
        "    label_len=24,\n",
        "    out_len=24,\n",
        "    factor=5,\n",
        "    d_model=512,\n",
        "    n_heads=8,\n",
        "    e_layers=2,\n",
        "    d_layers=1,\n",
        "    d_ff=2048,\n",
        "    dropout=0.1,\n",
        "    attn='prob',\n",
        "    embed='timeF',\n",
        "    freq='h',\n",
        "    activation='gelu',\n",
        "    output_attention=False,\n",
        "    distil=True,\n",
        "    mix=True,\n",
        "    device=torch.device('cuda:0' if torch.cuda.is_available() else 'cpu')\n",
        ")\n"
      ],
      "metadata": {
        "id": "pTdKJwTc5YpR"
      },
      "execution_count": 40,
      "outputs": []
    },
    {
      "cell_type": "code",
      "source": [
        "\n",
        "checkpoint_path = './checkpoints/informer_custom_ftS_sl24_ll24_pl24_dm512_nh8_el2_dl1_df2048_atprob_fc5_ebtimeF_dtTrue_mxTrue_test_0/checkpoint.pth'\n",
        "model.load_state_dict(torch.load(checkpoint_path, map_location=torch.device('cpu')))\n",
        "print(\"Ağırlıklar yüklendi.\")\n"
      ],
      "metadata": {
        "colab": {
          "base_uri": "https://localhost:8080/"
        },
        "id": "ZRaeqJAC52a7",
        "outputId": "3482f9e9-8750-485b-e195-3d24d11d5f06"
      },
      "execution_count": 41,
      "outputs": [
        {
          "output_type": "stream",
          "name": "stdout",
          "text": [
            "Ağırlıklar yüklendi.\n"
          ]
        }
      ]
    },
    {
      "cell_type": "code",
      "source": [
        "import time\n",
        "from sklearn.metrics import mean_squared_error, mean_absolute_error, r2_score\n",
        "\n",
        "\n",
        "start_time = time.time()\n",
        "with torch.no_grad():\n",
        "    predictions = model(x_test, x_mark_test, x_test, x_mark_test)\n",
        "inference_time = time.time() - start_time\n",
        "\n",
        "\n",
        "predictions_np = predictions.numpy()\n",
        "y_test_np = y_test.numpy()\n",
        "\n",
        "mse = mean_squared_error(y_test_np.flatten(), predictions_np.flatten())\n",
        "mae = mean_absolute_error(y_test_np.flatten(), predictions_np.flatten())\n",
        "rmse = np.sqrt(mse)\n",
        "r2 = r2_score(y_test_np.flatten(), predictions_np.flatten())\n",
        "mape = np.mean(np.abs((y_test_np.flatten() - predictions_np.flatten()) / y_test_np.flatten())) * 100\n",
        "\n",
        "print(f\"MSE: {mse}\")\n",
        "print(f\"MAE: {mae}\")\n",
        "print(f\"RMSE: {rmse}\")\n",
        "print(f\"R^2: {r2}\")\n",
        "print(f\"MAPE: {mape}%\")\n",
        "print(f\"Inference Time: {inference_time} seconds\")\n"
      ],
      "metadata": {
        "colab": {
          "base_uri": "https://localhost:8080/"
        },
        "id": "_BtCfdc66UfG",
        "outputId": "5d19a873-6b0c-4c24-9c3b-77be777b0684"
      },
      "execution_count": 42,
      "outputs": [
        {
          "output_type": "stream",
          "name": "stdout",
          "text": [
            "MSE: 1.188355803489685\n",
            "MAE: 0.8691956400871277\n",
            "RMSE: 1.0901173347349749\n",
            "R^2: -0.1553412675857544\n",
            "MAPE: 176.6432285308838%\n",
            "Inference Time: 0.42773890495300293 seconds\n"
          ]
        }
      ]
    },
    {
      "cell_type": "code",
      "source": [
        "import pandas as pd\n",
        "\n",
        "\n",
        "data = pd.read_csv(\"temiz_veri_cleaned.csv\")\n",
        "\n",
        "\n",
        "print(data.head())\n"
      ],
      "metadata": {
        "colab": {
          "base_uri": "https://localhost:8080/"
        },
        "id": "LsfHzK1Y6-qR",
        "outputId": "c326022b-71e1-479d-8a26-59fc8dc05ff6"
      },
      "execution_count": 46,
      "outputs": [
        {
          "output_type": "stream",
          "name": "stdout",
          "text": [
            "     T2M  QV2M   RH2M  PRECTOTCORR      PS  WS10M   WD10M                 date\n",
            "0  11.02  7.87  97.31          0.0  101.22   2.55  178.24  2024-01-01 00:00:00\n",
            "1  10.68  7.75  97.50          0.0  101.19   2.78  188.40  2024-01-01 01:00:00\n",
            "2  10.32  7.57  97.81          0.0  101.18   3.12  199.43  2024-01-01 02:00:00\n",
            "3  10.00  7.45  98.31          0.0  101.15   3.38  209.17  2024-01-01 03:00:00\n",
            "4   9.79  7.45  99.12          0.0  101.13   3.46  212.94  2024-01-01 04:00:00\n"
          ]
        }
      ]
    },
    {
      "cell_type": "code",
      "source": [
        "\n",
        "x_data = data.iloc[:, :-1].values\n",
        "y_data = data.iloc[:, -1].values\n"
      ],
      "metadata": {
        "id": "Vk3e12866_Qs"
      },
      "execution_count": 47,
      "outputs": []
    },
    {
      "cell_type": "code",
      "source": [
        "import numpy as np\n",
        "\n",
        "\n",
        "y_train_numeric = np.array([np.datetime64(date).astype('float64') for date in y_train])\n"
      ],
      "metadata": {
        "id": "dYoSJ76E7ti0"
      },
      "execution_count": 51,
      "outputs": []
    },
    {
      "cell_type": "code",
      "source": [
        "import pandas as pd\n",
        "\n",
        "\n",
        "y_train_df = pd.to_datetime(y_train)\n",
        "y_train_numeric = y_train_df.map(lambda date: date.timestamp())\n"
      ],
      "metadata": {
        "id": "POAA-G0N8HAD"
      },
      "execution_count": 52,
      "outputs": []
    },
    {
      "cell_type": "code",
      "source": [
        "y_train_tensor = torch.tensor(y_train_numeric, dtype=torch.float32)\n"
      ],
      "metadata": {
        "id": "7vXS5OSO8ItK"
      },
      "execution_count": 53,
      "outputs": []
    },
    {
      "cell_type": "code",
      "source": [
        "\n",
        "y_val_numeric = np.array([np.datetime64(date).astype('float64') for date in y_val])\n",
        "y_test_numeric = np.array([np.datetime64(date).astype('float64') for date in y_test])\n",
        "\n",
        "y_val_tensor = torch.tensor(y_val_numeric, dtype=torch.float32)\n",
        "y_test_tensor = torch.tensor(y_test_numeric, dtype=torch.float32)\n"
      ],
      "metadata": {
        "id": "CCQzLdFn8LCD"
      },
      "execution_count": 54,
      "outputs": []
    },
    {
      "cell_type": "code",
      "source": [
        "\n",
        "x_mark_train_tensor = torch.zeros((x_train.shape[0], 1), dtype=torch.float32)\n",
        "x_mark_val_tensor = torch.zeros((x_val.shape[0], 1), dtype=torch.float32)\n",
        "x_mark_test_tensor = torch.zeros((x_test.shape[0], 1), dtype=torch.float32)\n"
      ],
      "metadata": {
        "id": "SL6jfZ8w8jtO"
      },
      "execution_count": 59,
      "outputs": []
    },
    {
      "cell_type": "code",
      "source": [
        "\n",
        "print(\"train_data shape:\", train_data.shape)\n",
        "print(\"x_mark_train_tensor shape:\", x_mark_train_tensor.shape)\n",
        "\n",
        "\n",
        "train_data = train_data.unsqueeze(-1)\n",
        "x_mark_train_tensor = x_mark_train_tensor.unsqueeze(-1)\n",
        "val_data = val_data.unsqueeze(-1)\n",
        "val_mark = val_mark.unsqueeze(-1)\n"
      ],
      "metadata": {
        "colab": {
          "base_uri": "https://localhost:8080/"
        },
        "id": "vGgHBUrG9Sgz",
        "outputId": "46fbcdb3-a47a-408b-d429-d84e270ec945"
      },
      "execution_count": 65,
      "outputs": [
        {
          "output_type": "stream",
          "name": "stdout",
          "text": [
            "train_data shape: torch.Size([5796, 7])\n",
            "x_mark_train_tensor shape: torch.Size([5796, 1])\n"
          ]
        }
      ]
    },
    {
      "cell_type": "code",
      "source": [
        "train_data = train_data.unsqueeze(-1)\n"
      ],
      "metadata": {
        "id": "NLxafpII90MM"
      },
      "execution_count": 66,
      "outputs": []
    },
    {
      "cell_type": "code",
      "source": [
        "x_mark_train_tensor = x_mark_train_tensor.repeat(1, 7, 1)\n"
      ],
      "metadata": {
        "id": "QmdgShGG91JM"
      },
      "execution_count": 67,
      "outputs": []
    },
    {
      "cell_type": "code",
      "source": [
        "\n",
        "train_data = train_data.squeeze(-1).squeeze(-1)\n",
        "x_mark_train_tensor = x_mark_train_tensor.squeeze(-1)\n",
        "\n"
      ],
      "metadata": {
        "id": "3L2chHM493y9"
      },
      "execution_count": 71,
      "outputs": []
    },
    {
      "cell_type": "code",
      "source": [
        "model = Informer(\n",
        "    enc_in=1,\n",
        "    dec_in=1,\n",
        "    c_out=1,\n",
        "    seq_len=7,\n",
        "    label_len=7,\n",
        "    out_len=1,\n",
        "    factor=5,\n",
        "    d_model=512,\n",
        "    n_heads=8,\n",
        "    e_layers=2,\n",
        "    d_layers=1,\n",
        "    d_ff=2048,\n",
        "    dropout=0.1,\n",
        "    attn='prob',\n",
        "    embed='timeF',\n",
        "    freq='h',\n",
        "    activation='gelu',\n",
        "    output_attention=False,\n",
        "    distil=True,\n",
        "    mix=True,\n",
        "    device=torch.device('cuda' if torch.cuda.is_available() else 'cpu')\n",
        ")\n"
      ],
      "metadata": {
        "id": "t_hkTpNf-CF0"
      },
      "execution_count": 79,
      "outputs": []
    },
    {
      "cell_type": "code",
      "source": [
        "\n",
        "train_data = train_data.unsqueeze(-1)\n",
        "x_mark_train_tensor = x_mark_train_tensor.unsqueeze(-1)\n",
        "\n",
        "print(f\"train_data shape: {train_data.shape}\")\n",
        "print(f\"x_mark_train_tensor shape: {x_mark_train_tensor.shape}\")\n"
      ],
      "metadata": {
        "colab": {
          "base_uri": "https://localhost:8080/"
        },
        "id": "__DwE04d-U7S",
        "outputId": "dec29fd9-d30f-481a-dedb-0813e4caed37"
      },
      "execution_count": 74,
      "outputs": [
        {
          "output_type": "stream",
          "name": "stdout",
          "text": [
            "train_data shape: torch.Size([5796, 7, 1])\n",
            "x_mark_train_tensor shape: torch.Size([5796, 7, 1])\n"
          ]
        }
      ]
    },
    {
      "cell_type": "code",
      "source": [
        "checkpoint_path = \"checkpoints/informer_custom_ftS_sl24_ll24_pl24_dm512_nh8_el2_dl1_df2048_atprob_fc5_ebtimeF_dtTrue_mxTrue_test_0/checkpoint.pth\"\n",
        "\n",
        "model.load_state_dict(torch.load(checkpoint_path, map_location=torch.device('cpu')))\n",
        "print(\"Checkpoint başarıyla yüklendi!\")\n"
      ],
      "metadata": {
        "colab": {
          "base_uri": "https://localhost:8080/"
        },
        "id": "3lXNPaJB8WDB",
        "outputId": "28433403-fcaa-43ca-957a-b61280c80459"
      },
      "execution_count": 85,
      "outputs": [
        {
          "output_type": "stream",
          "name": "stdout",
          "text": [
            "Checkpoint başarıyla yüklendi!\n"
          ]
        }
      ]
    },
    {
      "cell_type": "code",
      "source": [
        "x_test_tensor = x_test_tensor.unsqueeze(-1)\n",
        "print(\"Yeni x_test_tensor shape:\", x_test_tensor.shape)\n",
        "x_mark_test_tensor = x_mark_test_tensor.repeat(1, 7).unsqueeze(-1)\n",
        "print(\"Yeni x_mark_test_tensor shape:\", x_mark_test_tensor.shape)\n",
        "\n"
      ],
      "metadata": {
        "colab": {
          "base_uri": "https://localhost:8080/"
        },
        "id": "t8JFGm9wACy0",
        "outputId": "2eb5a03e-204d-431b-cce1-780ff3eeed50"
      },
      "execution_count": 89,
      "outputs": [
        {
          "output_type": "stream",
          "name": "stdout",
          "text": [
            "Yeni x_test_tensor shape: torch.Size([1242, 7, 1])\n",
            "Yeni x_mark_test_tensor shape: torch.Size([1242, 7, 1])\n"
          ]
        }
      ]
    },
    {
      "cell_type": "code",
      "source": [
        "\n",
        "if len(x_test_tensor.shape) == 4:\n",
        "    x_test_tensor = x_test_tensor.squeeze(-1)\n",
        "if len(x_mark_test_tensor.shape) == 4:\n",
        "    x_mark_test_tensor = x_mark_test_tensor.squeeze(-1)\n",
        "\n",
        "\n",
        "x_test_tensor = x_test_tensor.permute(0, 2, 1)\n",
        "x_mark_test_tensor = x_mark_test_tensor.permute(0, 2, 1)\n",
        "\n",
        "print(f\"Yeni x_test_tensor shape: {x_test_tensor.shape}\")\n",
        "print(f\"Yeni x_mark_test_tensor shape: {x_mark_test_tensor.shape}\")\n"
      ],
      "metadata": {
        "colab": {
          "base_uri": "https://localhost:8080/"
        },
        "id": "4TKFSiPgAh4a",
        "outputId": "7f824fc5-8c52-4ff3-d3bb-ce4c3e92ee72"
      },
      "execution_count": 97,
      "outputs": [
        {
          "output_type": "stream",
          "name": "stdout",
          "text": [
            "Yeni x_test_tensor shape: torch.Size([1242, 1, 7])\n",
            "Yeni x_mark_test_tensor shape: torch.Size([1242, 1, 7])\n"
          ]
        }
      ]
    },
    {
      "cell_type": "code",
      "source": [
        "print(f\"x_test_tensor shape: {x_test_tensor.shape}\")\n",
        "print(f\"x_mark_test_tensor shape: {x_mark_test_tensor.shape}\")\n",
        "print(f\"Model enc_embedding input shape: {model.enc_embedding}\")\n"
      ],
      "metadata": {
        "colab": {
          "base_uri": "https://localhost:8080/"
        },
        "id": "QSg9KTOEBskU",
        "outputId": "fc494a42-041f-4054-99b3-483716e14669"
      },
      "execution_count": 99,
      "outputs": [
        {
          "output_type": "stream",
          "name": "stdout",
          "text": [
            "x_test_tensor shape: torch.Size([1242, 1, 7])\n",
            "x_mark_test_tensor shape: torch.Size([1242, 1, 7])\n",
            "Model enc_embedding input shape: DataEmbedding(\n",
            "  (value_embedding): TokenEmbedding(\n",
            "    (tokenConv): Conv1d(1, 512, kernel_size=(3,), stride=(1,), padding=(1,), padding_mode=circular)\n",
            "  )\n",
            "  (position_embedding): PositionalEmbedding()\n",
            "  (temporal_embedding): TimeFeatureEmbedding(\n",
            "    (embed): Linear(in_features=4, out_features=512, bias=True)\n",
            "  )\n",
            "  (dropout): Dropout(p=0.05, inplace=False)\n",
            ")\n"
          ]
        }
      ]
    },
    {
      "cell_type": "code",
      "source": [
        "\n",
        "x_test_tensor = x_test_tensor.permute(0, 2, 1)\n",
        "x_mark_test_tensor = x_mark_test_tensor.permute(0, 2, 1)\n",
        "\n",
        "print(f\"Düzeltilmiş x_test_tensor shape: {x_test_tensor.shape}\")\n",
        "print(f\"Düzeltilmiş x_mark_test_tensor shape: {x_mark_test_tensor.shape}\")\n"
      ],
      "metadata": {
        "colab": {
          "base_uri": "https://localhost:8080/"
        },
        "id": "nTaSYUlNCGpa",
        "outputId": "9e43bf8e-77da-4f61-c58d-b45cffe0e1f2"
      },
      "execution_count": 102,
      "outputs": [
        {
          "output_type": "stream",
          "name": "stdout",
          "text": [
            "Düzeltilmiş x_test_tensor shape: torch.Size([1242, 1, 7])\n",
            "Düzeltilmiş x_mark_test_tensor shape: torch.Size([1242, 1, 7])\n"
          ]
        }
      ]
    },
    {
      "cell_type": "code",
      "source": [
        "\n",
        "import numpy as np\n",
        "\n",
        "\n",
        "num_samples = x_mark_test_tensor.shape[0]\n",
        "seq_len = x_mark_test_tensor.shape[1]\n",
        "time_features = np.random.rand(num_samples, seq_len, 4)\n",
        "\n",
        "\n",
        "x_mark_test_tensor = torch.tensor(time_features, dtype=torch.float32)\n",
        "print(f\"Düzeltilmiş x_mark_test_tensor shape: {x_mark_test_tensor.shape}\")\n"
      ],
      "metadata": {
        "colab": {
          "base_uri": "https://localhost:8080/"
        },
        "id": "7CZQcxOlCcJN",
        "outputId": "01bbb80e-804c-4dcf-9ba9-99f966a1fb10"
      },
      "execution_count": 109,
      "outputs": [
        {
          "output_type": "stream",
          "name": "stdout",
          "text": [
            "Düzeltilmiş x_mark_test_tensor shape: torch.Size([1242, 7, 4])\n"
          ]
        }
      ]
    },
    {
      "cell_type": "code",
      "source": [
        "with torch.no_grad():\n",
        "    predictions = model(x_test_tensor, x_mark_test_tensor, x_test_tensor, x_mark_test_tensor)\n",
        "\n",
        "print(\"Tahminler başarıyla yapıldı!\")\n"
      ],
      "metadata": {
        "colab": {
          "base_uri": "https://localhost:8080/"
        },
        "id": "R-hZaSEaEeBc",
        "outputId": "9bd34e84-e1f0-4ff0-f194-195318ea651b"
      },
      "execution_count": 110,
      "outputs": [
        {
          "output_type": "stream",
          "name": "stdout",
          "text": [
            "Tahminler başarıyla yapıldı!\n"
          ]
        }
      ]
    },
    {
      "cell_type": "code",
      "source": [
        "predictions_np = predictions.detach().cpu().numpy()\n",
        "print(\"Tahminler (numpy formatında):\")\n",
        "print(predictions_np[:5])\n"
      ],
      "metadata": {
        "colab": {
          "base_uri": "https://localhost:8080/"
        },
        "id": "S8aP-alOEvtV",
        "outputId": "82d4554d-8d34-4cff-8111-05375fca0abd"
      },
      "execution_count": 111,
      "outputs": [
        {
          "output_type": "stream",
          "name": "stdout",
          "text": [
            "Tahminler (numpy formatında):\n",
            "[[[ 0.41873133]]\n",
            "\n",
            " [[ 0.09226015]]\n",
            "\n",
            " [[-0.050508  ]]\n",
            "\n",
            " [[ 0.1457893 ]]\n",
            "\n",
            " [[-0.16291325]]]\n"
          ]
        }
      ]
    },
    {
      "cell_type": "code",
      "source": [
        "\n",
        "predictions_np_flat = predictions_np.reshape(-1)\n",
        "\n",
        "\n",
        "plt.plot(predictions_np_flat[:50], label='Tahminler')\n",
        "plt.legend()\n",
        "plt.show()\n",
        "\n"
      ],
      "metadata": {
        "colab": {
          "base_uri": "https://localhost:8080/",
          "height": 430
        },
        "id": "0YcPElNcEwy9",
        "outputId": "e802dcd8-377e-4ad4-c914-7be0ceb502c6"
      },
      "execution_count": 113,
      "outputs": [
        {
          "output_type": "display_data",
          "data": {
            "text/plain": [
              "<Figure size 640x480 with 1 Axes>"
            ],
            "image/png": "[encoded data removed]"
          },
          "metadata": {}
        }
      ]
    },
    {
      "cell_type": "code",
      "source": [
        "from sklearn.metrics import mean_squared_error, mean_absolute_error, r2_score\n",
        "import numpy as np\n",
        "\n",
        "\n",
        "y_test_np = y_test_tensor.numpy().reshape(-1)\n",
        "\n",
        "\n",
        "predictions_np_flat = predictions_np.reshape(-1)\n",
        "\n",
        "\n",
        "mse = mean_squared_error(y_test_np, predictions_np_flat)\n",
        "mae = mean_absolute_error(y_test_np, predictions_np_flat)\n",
        "rmse = np.sqrt(mse)\n",
        "mape = np.mean(np.abs((y_test_np - predictions_np_flat) / y_test_np)) * 100\n",
        "r_squared = r2_score(y_test_np, predictions_np_flat)\n",
        "\n",
        "\n",
        "print(f\"MSE: {mse}\")\n",
        "print(f\"MAE: {mae}\")\n",
        "print(f\"RMSE: {rmse}\")\n",
        "print(f\"MAPE: {mape}%\")\n",
        "print(f\"R²: {r_squared}\")\n"
      ],
      "metadata": {
        "colab": {
          "base_uri": "https://localhost:8080/"
        },
        "id": "jb5-INKJE06W",
        "outputId": "44ccfbe1-5110-4940-a50e-5c036d2a3efd"
      },
      "execution_count": 116,
      "outputs": [
        {
          "output_type": "stream",
          "name": "stdout",
          "text": [
            "MSE: 2.953866850200453e+18\n",
            "MAE: 1718660224.0\n",
            "RMSE: 1718681718.7019978\n",
            "MAPE: 100.0%\n",
            "R²: -40007.86328125\n"
          ]
        }
      ]
    },
    {
      "cell_type": "code",
      "source": [
        "import numpy as np\n",
        "import torch\n",
        "\n",
        "num_samples = 5796\n",
        "seq_len = 7\n",
        "\n",
        "\n",
        "years = np.full((num_samples, seq_len, 1), 2023)\n",
        "months = np.random.randint(1, 13, size=(num_samples, seq_len, 1))\n",
        "days = np.random.randint(1, 29, size=(num_samples, seq_len, 1))\n",
        "hours = np.random.randint(0, 24, size=(num_samples, seq_len, 1))\n",
        "\n",
        "\n",
        "time_features = np.concatenate([years, months, days, hours], axis=-1)\n",
        "\n",
        "\n",
        "x_mark_train_tensor = torch.tensor(time_features, dtype=torch.float32)\n"
      ],
      "metadata": {
        "id": "BAuauHHwF5hV"
      },
      "execution_count": 123,
      "outputs": []
    },
    {
      "cell_type": "code",
      "source": [
        "\n",
        "plt.plot(range(1, len(train_loss) + 1), train_loss, label=\"Eğitim Kaybı\")\n",
        "plt.plot(range(1, len(test_loss) + 1), test_loss, label=\"Test Kaybı\", linestyle=\"--\")\n",
        "plt.xlabel(\"Epoch\")\n",
        "plt.ylabel(\"Loss\")\n",
        "plt.title(\"Epoch vs Loss Grafiği\")\n",
        "plt.legend()\n",
        "plt.show()\n"
      ],
      "metadata": {
        "colab": {
          "base_uri": "https://localhost:8080/",
          "height": 472
        },
        "id": "6ORAQFUhHmMt",
        "outputId": "5a9d6de3-a64c-40b1-b452-c6caf76815bb"
      },
      "execution_count": 128,
      "outputs": [
        {
          "output_type": "display_data",
          "data": {
            "text/plain": [
              "<Figure size 640x480 with 1 Axes>"
            ],
            "image/png": "[encoded data removed]"
          },
          "metadata": {}
        }
      ]
    },
    {
      "cell_type": "code",
      "source": [
        "import pandas as pd\n",
        "\n",
        "\n",
        "file_path = '/content/temiz_veri_cleaned.csv'\n",
        "data = pd.read_csv(file_path)\n",
        "\n",
        "\n",
        "print(data.head())\n",
        "print(data.info())"
      ],
      "metadata": {
        "colab": {
          "base_uri": "https://localhost:8080/"
        },
        "id": "L9DmArzqYkQH",
        "outputId": "a53b0b54-4bfd-49cc-e64b-f920c9cb8dd9"
      },
      "execution_count": 12,
      "outputs": [
        {
          "output_type": "stream",
          "name": "stdout",
          "text": [
            "     T2M  QV2M   RH2M  PRECTOTCORR      PS  WS10M   WD10M                 date\n",
            "0  11.02  7.87  97.31          0.0  101.22   2.55  178.24  2024-01-01 00:00:00\n",
            "1  10.68  7.75  97.50          0.0  101.19   2.78  188.40  2024-01-01 01:00:00\n",
            "2  10.32  7.57  97.81          0.0  101.18   3.12  199.43  2024-01-01 02:00:00\n",
            "3  10.00  7.45  98.31          0.0  101.15   3.38  209.17  2024-01-01 03:00:00\n",
            "4   9.79  7.45  99.12          0.0  101.13   3.46  212.94  2024-01-01 04:00:00\n",
            "<class 'pandas.core.frame.DataFrame'>\n",
            "RangeIndex: 8280 entries, 0 to 8279\n",
            "Data columns (total 8 columns):\n",
            " #   Column       Non-Null Count  Dtype  \n",
            "---  ------       --------------  -----  \n",
            " 0   T2M          8280 non-null   float64\n",
            " 1   QV2M         8280 non-null   float64\n",
            " 2   RH2M         8280 non-null   float64\n",
            " 3   PRECTOTCORR  8280 non-null   float64\n",
            " 4   PS           8280 non-null   float64\n",
            " 5   WS10M        8280 non-null   float64\n",
            " 6   WD10M        8280 non-null   float64\n",
            " 7   date         8280 non-null   object \n",
            "dtypes: float64(7), object(1)\n",
            "memory usage: 517.6+ KB\n",
            "None\n"
          ]
        }
      ]
    },
    {
      "cell_type": "code",
      "source": [
        "\n",
        "data['date'] = pd.to_datetime(data['date'])\n",
        "\n",
        "\n",
        "data['year'] = data['date'].dt.year\n",
        "data['month'] = data['date'].dt.month\n",
        "data['day'] = data['date'].dt.day\n",
        "data['hour'] = data['date'].dt.hour\n",
        "\n",
        "\n",
        "data = data.drop(columns=['date'])\n",
        "\n",
        "print(data.head())\n"
      ],
      "metadata": {
        "colab": {
          "base_uri": "https://localhost:8080/"
        },
        "id": "eRipruTBZbP9",
        "outputId": "aaf8fc81-67e9-4cc3-f3b0-8255ba3cd70b"
      },
      "execution_count": 13,
      "outputs": [
        {
          "output_type": "stream",
          "name": "stdout",
          "text": [
            "     T2M  QV2M   RH2M  PRECTOTCORR      PS  WS10M   WD10M  year  month  day  \\\n",
            "0  11.02  7.87  97.31          0.0  101.22   2.55  178.24  2024      1    1   \n",
            "1  10.68  7.75  97.50          0.0  101.19   2.78  188.40  2024      1    1   \n",
            "2  10.32  7.57  97.81          0.0  101.18   3.12  199.43  2024      1    1   \n",
            "3  10.00  7.45  98.31          0.0  101.15   3.38  209.17  2024      1    1   \n",
            "4   9.79  7.45  99.12          0.0  101.13   3.46  212.94  2024      1    1   \n",
            "\n",
            "   hour  \n",
            "0     0  \n",
            "1     1  \n",
            "2     2  \n",
            "3     3  \n",
            "4     4  \n"
          ]
        }
      ]
    },
    {
      "cell_type": "code",
      "source": [
        "\n",
        "train_size = int(len(data) * 0.8)\n",
        "train_data = data[:train_size]\n",
        "test_data = data[train_size:]\n",
        "\n",
        "\n",
        "x_test = test_data.drop(columns=['T2M'])\n",
        "y_test = test_data['T2M']\n",
        "\n",
        "\n",
        "x_test_tensor = torch.tensor(x_test.values, dtype=torch.float32)\n",
        "y_test_tensor = torch.tensor(y_test.values, dtype=torch.float32)\n"
      ],
      "metadata": {
        "id": "_xiKjvU8ZbvB"
      },
      "execution_count": 14,
      "outputs": []
    },
    {
      "cell_type": "code",
      "source": [
        "import sys\n",
        "sys.path.append('/content/Informer2020')\n"
      ],
      "metadata": {
        "id": "-EczI96VZs_b"
      },
      "execution_count": 21,
      "outputs": []
    },
    {
      "cell_type": "code",
      "source": [
        "import sys\n",
        "sys.path.append('/content/Informer2020')\n"
      ],
      "metadata": {
        "id": "CAeK5HszZeNO"
      },
      "execution_count": 27,
      "outputs": []
    },
    {
      "cell_type": "code",
      "source": [
        "from models.model import Informer"
      ],
      "metadata": {
        "id": "jKvlm8D4ZfuU"
      },
      "execution_count": 28,
      "outputs": []
    },
    {
      "cell_type": "code",
      "source": [
        "\n",
        "checkpoint = torch.load(checkpoint_path, map_location=device)\n",
        "\n",
        "\n",
        "print(checkpoint.keys())\n"
      ],
      "metadata": {
        "colab": {
          "base_uri": "https://localhost:8080/"
        },
        "id": "57YhtoV0b6Gz",
        "outputId": "d7852566-5fde-4c8f-c97a-8ac22f14c609"
      },
      "execution_count": 34,
      "outputs": [
        {
          "output_type": "stream",
          "name": "stdout",
          "text": [
            "odict_keys(['enc_embedding.value_embedding.tokenConv.weight', 'enc_embedding.value_embedding.tokenConv.bias', 'enc_embedding.position_embedding.pe', 'enc_embedding.temporal_embedding.embed.weight', 'enc_embedding.temporal_embedding.embed.bias', 'dec_embedding.value_embedding.tokenConv.weight', 'dec_embedding.value_embedding.tokenConv.bias', 'dec_embedding.position_embedding.pe', 'dec_embedding.temporal_embedding.embed.weight', 'dec_embedding.temporal_embedding.embed.bias', 'encoder.attn_layers.0.attention.query_projection.weight', 'encoder.attn_layers.0.attention.query_projection.bias', 'encoder.attn_layers.0.attention.key_projection.weight', 'encoder.attn_layers.0.attention.key_projection.bias', 'encoder.attn_layers.0.attention.value_projection.weight', 'encoder.attn_layers.0.attention.value_projection.bias', 'encoder.attn_layers.0.attention.out_projection.weight', 'encoder.attn_layers.0.attention.out_projection.bias', 'encoder.attn_layers.0.conv1.weight', 'encoder.attn_layers.0.conv1.bias', 'encoder.attn_layers.0.conv2.weight', 'encoder.attn_layers.0.conv2.bias', 'encoder.attn_layers.0.norm1.weight', 'encoder.attn_layers.0.norm1.bias', 'encoder.attn_layers.0.norm2.weight', 'encoder.attn_layers.0.norm2.bias', 'encoder.attn_layers.1.attention.query_projection.weight', 'encoder.attn_layers.1.attention.query_projection.bias', 'encoder.attn_layers.1.attention.key_projection.weight', 'encoder.attn_layers.1.attention.key_projection.bias', 'encoder.attn_layers.1.attention.value_projection.weight', 'encoder.attn_layers.1.attention.value_projection.bias', 'encoder.attn_layers.1.attention.out_projection.weight', 'encoder.attn_layers.1.attention.out_projection.bias', 'encoder.attn_layers.1.conv1.weight', 'encoder.attn_layers.1.conv1.bias', 'encoder.attn_layers.1.conv2.weight', 'encoder.attn_layers.1.conv2.bias', 'encoder.attn_layers.1.norm1.weight', 'encoder.attn_layers.1.norm1.bias', 'encoder.attn_layers.1.norm2.weight', 'encoder.attn_layers.1.norm2.bias', 'encoder.conv_layers.0.downConv.weight', 'encoder.conv_layers.0.downConv.bias', 'encoder.conv_layers.0.norm.weight', 'encoder.conv_layers.0.norm.bias', 'encoder.conv_layers.0.norm.running_mean', 'encoder.conv_layers.0.norm.running_var', 'encoder.conv_layers.0.norm.num_batches_tracked', 'encoder.norm.weight', 'encoder.norm.bias', 'decoder.layers.0.self_attention.query_projection.weight', 'decoder.layers.0.self_attention.query_projection.bias', 'decoder.layers.0.self_attention.key_projection.weight', 'decoder.layers.0.self_attention.key_projection.bias', 'decoder.layers.0.self_attention.value_projection.weight', 'decoder.layers.0.self_attention.value_projection.bias', 'decoder.layers.0.self_attention.out_projection.weight', 'decoder.layers.0.self_attention.out_projection.bias', 'decoder.layers.0.cross_attention.query_projection.weight', 'decoder.layers.0.cross_attention.query_projection.bias', 'decoder.layers.0.cross_attention.key_projection.weight', 'decoder.layers.0.cross_attention.key_projection.bias', 'decoder.layers.0.cross_attention.value_projection.weight', 'decoder.layers.0.cross_attention.value_projection.bias', 'decoder.layers.0.cross_attention.out_projection.weight', 'decoder.layers.0.cross_attention.out_projection.bias', 'decoder.layers.0.conv1.weight', 'decoder.layers.0.conv1.bias', 'decoder.layers.0.conv2.weight', 'decoder.layers.0.conv2.bias', 'decoder.layers.0.norm1.weight', 'decoder.layers.0.norm1.bias', 'decoder.layers.0.norm2.weight', 'decoder.layers.0.norm2.bias', 'decoder.layers.0.norm3.weight', 'decoder.layers.0.norm3.bias', 'decoder.norm.weight', 'decoder.norm.bias', 'projection.weight', 'projection.bias'])\n"
          ]
        },
        {
          "output_type": "stream",
          "name": "stderr",
          "text": [
            "<ipython-input-34-6095642a99cc>:2: FutureWarning: You are using `torch.load` with `weights_only=False` (the current default value), which uses the default pickle module implicitly. It is possible to construct malicious pickle data which will execute arbitrary code during unpickling (See https://github.com/pytorch/pytorch/blob/main/SECURITY.md#untrusted-models for more details). In a future release, the default value for `weights_only` will be flipped to `True`. This limits the functions that could be executed during unpickling. Arbitrary objects will no longer be allowed to be loaded via this mode unless they are explicitly allowlisted by the user via `torch.serialization.add_safe_globals`. We recommend you start setting `weights_only=True` for any use case where you don't have full control of the loaded file. Please open an issue on GitHub for any issues related to this experimental feature.\n",
            "  checkpoint = torch.load(checkpoint_path, map_location=device)\n"
          ]
        }
      ]
    },
    {
      "cell_type": "code",
      "source": [
        "\n",
        "checkpoint = torch.load(checkpoint_path, map_location=device)\n",
        "\n",
        "\n",
        "model.enc_embedding.value_embedding.tokenConv.weight.data = checkpoint['enc_embedding.value_embedding.tokenConv.weight']\n",
        "model.enc_embedding.value_embedding.tokenConv.bias.data = checkpoint['enc_embedding.value_embedding.tokenConv.bias']\n"
      ],
      "metadata": {
        "colab": {
          "base_uri": "https://localhost:8080/"
        },
        "id": "BrfxpyGnb8YJ",
        "outputId": "d587a398-a8fc-4b63-be4e-c70bf209d6b2"
      },
      "execution_count": 35,
      "outputs": [
        {
          "output_type": "stream",
          "name": "stderr",
          "text": [
            "<ipython-input-35-134bd653145e>:2: FutureWarning: You are using `torch.load` with `weights_only=False` (the current default value), which uses the default pickle module implicitly. It is possible to construct malicious pickle data which will execute arbitrary code during unpickling (See https://github.com/pytorch/pytorch/blob/main/SECURITY.md#untrusted-models for more details). In a future release, the default value for `weights_only` will be flipped to `True`. This limits the functions that could be executed during unpickling. Arbitrary objects will no longer be allowed to be loaded via this mode unless they are explicitly allowlisted by the user via `torch.serialization.add_safe_globals`. We recommend you start setting `weights_only=True` for any use case where you don't have full control of the loaded file. Please open an issue on GitHub for any issues related to this experimental feature.\n",
            "  checkpoint = torch.load(checkpoint_path, map_location=device)\n"
          ]
        }
      ]
    },
    {
      "cell_type": "code",
      "source": [
        "checkpoint = torch.load(checkpoint_path, map_location=device, weights_only=True)\n"
      ],
      "metadata": {
        "id": "7aW0j99Tcs5E"
      },
      "execution_count": 36,
      "outputs": []
    },
    {
      "cell_type": "code",
      "source": [
        "\n",
        "print(model.enc_embedding.value_embedding.tokenConv.weight.shape)\n",
        "print(model.dec_embedding.value_embedding.tokenConv.weight.shape)\n",
        "\n",
        "\n"
      ],
      "metadata": {
        "colab": {
          "base_uri": "https://localhost:8080/"
        },
        "id": "FsgpZWBic7m4",
        "outputId": "a31e3b58-55e9-498d-c556-e1226b8bba42"
      },
      "execution_count": 40,
      "outputs": [
        {
          "output_type": "stream",
          "name": "stdout",
          "text": [
            "torch.Size([512, 7, 3])\n",
            "torch.Size([512, 7, 3])\n"
          ]
        }
      ]
    },
    {
      "cell_type": "code",
      "source": [
        "\n",
        "checkpoint = torch.load(checkpoint_path, map_location=device)\n",
        "for key in checkpoint.keys():\n",
        "    print(key)\n"
      ],
      "metadata": {
        "colab": {
          "base_uri": "https://localhost:8080/"
        },
        "id": "y83sbJY2dqY1",
        "outputId": "3ae7ccf3-5345-4eff-c29b-2f3d964197ac"
      },
      "execution_count": 44,
      "outputs": [
        {
          "output_type": "stream",
          "name": "stderr",
          "text": [
            "<ipython-input-44-f20e732208da>:2: FutureWarning: You are using `torch.load` with `weights_only=False` (the current default value), which uses the default pickle module implicitly. It is possible to construct malicious pickle data which will execute arbitrary code during unpickling (See https://github.com/pytorch/pytorch/blob/main/SECURITY.md#untrusted-models for more details). In a future release, the default value for `weights_only` will be flipped to `True`. This limits the functions that could be executed during unpickling. Arbitrary objects will no longer be allowed to be loaded via this mode unless they are explicitly allowlisted by the user via `torch.serialization.add_safe_globals`. We recommend you start setting `weights_only=True` for any use case where you don't have full control of the loaded file. Please open an issue on GitHub for any issues related to this experimental feature.\n",
            "  checkpoint = torch.load(checkpoint_path, map_location=device)\n"
          ]
        },
        {
          "output_type": "stream",
          "name": "stdout",
          "text": [
            "enc_embedding.value_embedding.tokenConv.weight\n",
            "enc_embedding.value_embedding.tokenConv.bias\n",
            "enc_embedding.position_embedding.pe\n",
            "enc_embedding.temporal_embedding.embed.weight\n",
            "enc_embedding.temporal_embedding.embed.bias\n",
            "dec_embedding.value_embedding.tokenConv.weight\n",
            "dec_embedding.value_embedding.tokenConv.bias\n",
            "dec_embedding.position_embedding.pe\n",
            "dec_embedding.temporal_embedding.embed.weight\n",
            "dec_embedding.temporal_embedding.embed.bias\n",
            "encoder.attn_layers.0.attention.query_projection.weight\n",
            "encoder.attn_layers.0.attention.query_projection.bias\n",
            "encoder.attn_layers.0.attention.key_projection.weight\n",
            "encoder.attn_layers.0.attention.key_projection.bias\n",
            "encoder.attn_layers.0.attention.value_projection.weight\n",
            "encoder.attn_layers.0.attention.value_projection.bias\n",
            "encoder.attn_layers.0.attention.out_projection.weight\n",
            "encoder.attn_layers.0.attention.out_projection.bias\n",
            "encoder.attn_layers.0.conv1.weight\n",
            "encoder.attn_layers.0.conv1.bias\n",
            "encoder.attn_layers.0.conv2.weight\n",
            "encoder.attn_layers.0.conv2.bias\n",
            "encoder.attn_layers.0.norm1.weight\n",
            "encoder.attn_layers.0.norm1.bias\n",
            "encoder.attn_layers.0.norm2.weight\n",
            "encoder.attn_layers.0.norm2.bias\n",
            "encoder.attn_layers.1.attention.query_projection.weight\n",
            "encoder.attn_layers.1.attention.query_projection.bias\n",
            "encoder.attn_layers.1.attention.key_projection.weight\n",
            "encoder.attn_layers.1.attention.key_projection.bias\n",
            "encoder.attn_layers.1.attention.value_projection.weight\n",
            "encoder.attn_layers.1.attention.value_projection.bias\n",
            "encoder.attn_layers.1.attention.out_projection.weight\n",
            "encoder.attn_layers.1.attention.out_projection.bias\n",
            "encoder.attn_layers.1.conv1.weight\n",
            "encoder.attn_layers.1.conv1.bias\n",
            "encoder.attn_layers.1.conv2.weight\n",
            "encoder.attn_layers.1.conv2.bias\n",
            "encoder.attn_layers.1.norm1.weight\n",
            "encoder.attn_layers.1.norm1.bias\n",
            "encoder.attn_layers.1.norm2.weight\n",
            "encoder.attn_layers.1.norm2.bias\n",
            "encoder.conv_layers.0.downConv.weight\n",
            "encoder.conv_layers.0.downConv.bias\n",
            "encoder.conv_layers.0.norm.weight\n",
            "encoder.conv_layers.0.norm.bias\n",
            "encoder.conv_layers.0.norm.running_mean\n",
            "encoder.conv_layers.0.norm.running_var\n",
            "encoder.conv_layers.0.norm.num_batches_tracked\n",
            "encoder.norm.weight\n",
            "encoder.norm.bias\n",
            "decoder.layers.0.self_attention.query_projection.weight\n",
            "decoder.layers.0.self_attention.query_projection.bias\n",
            "decoder.layers.0.self_attention.key_projection.weight\n",
            "decoder.layers.0.self_attention.key_projection.bias\n",
            "decoder.layers.0.self_attention.value_projection.weight\n",
            "decoder.layers.0.self_attention.value_projection.bias\n",
            "decoder.layers.0.self_attention.out_projection.weight\n",
            "decoder.layers.0.self_attention.out_projection.bias\n",
            "decoder.layers.0.cross_attention.query_projection.weight\n",
            "decoder.layers.0.cross_attention.query_projection.bias\n",
            "decoder.layers.0.cross_attention.key_projection.weight\n",
            "decoder.layers.0.cross_attention.key_projection.bias\n",
            "decoder.layers.0.cross_attention.value_projection.weight\n",
            "decoder.layers.0.cross_attention.value_projection.bias\n",
            "decoder.layers.0.cross_attention.out_projection.weight\n",
            "decoder.layers.0.cross_attention.out_projection.bias\n",
            "decoder.layers.0.conv1.weight\n",
            "decoder.layers.0.conv1.bias\n",
            "decoder.layers.0.conv2.weight\n",
            "decoder.layers.0.conv2.bias\n",
            "decoder.layers.0.norm1.weight\n",
            "decoder.layers.0.norm1.bias\n",
            "decoder.layers.0.norm2.weight\n",
            "decoder.layers.0.norm2.bias\n",
            "decoder.layers.0.norm3.weight\n",
            "decoder.layers.0.norm3.bias\n",
            "decoder.norm.weight\n",
            "decoder.norm.bias\n",
            "projection.weight\n",
            "projection.bias\n"
          ]
        }
      ]
    },
    {
      "cell_type": "code",
      "source": [
        "import pandas as pd\n",
        "\n",
        "\n",
        "dosya_yolu = \"temiz_veri.csv\"\n",
        "veri = pd.read_csv(dosya_yolu)\n",
        "\n",
        "\n",
        "print(veri.head())\n",
        "print(veri.info())\n",
        "\n",
        "\n",
        "print(veri.isnull().sum())\n",
        "\n",
        "\n",
        "import matplotlib.pyplot as plt\n",
        "veri.hist(bins=50, figsize=(20, 15))\n",
        "plt.show()\n"
      ],
      "metadata": {
        "colab": {
          "base_uri": "https://localhost:8080/",
          "height": 1000
        },
        "id": "zVhIy8mxeMfG",
        "outputId": "51232250-3a23-4f03-d75b-a8c77015077c"
      },
      "execution_count": 51,
      "outputs": [
        {
          "output_type": "stream",
          "name": "stdout",
          "text": [
            "     T2M  QV2M   RH2M  PRECTOTCORR      PS  WS10M   WD10M             datetime\n",
            "0  11.02  7.87  97.31          0.0  101.22   2.55  178.24  2024-01-01 00:00:00\n",
            "1  10.68  7.75  97.50          0.0  101.19   2.78  188.40  2024-01-01 01:00:00\n",
            "2  10.32  7.57  97.81          0.0  101.18   3.12  199.43  2024-01-01 02:00:00\n",
            "3  10.00  7.45  98.31          0.0  101.15   3.38  209.17  2024-01-01 03:00:00\n",
            "4   9.79  7.45  99.12          0.0  101.13   3.46  212.94  2024-01-01 04:00:00\n",
            "<class 'pandas.core.frame.DataFrame'>\n",
            "RangeIndex: 8280 entries, 0 to 8279\n",
            "Data columns (total 8 columns):\n",
            " #   Column       Non-Null Count  Dtype  \n",
            "---  ------       --------------  -----  \n",
            " 0   T2M          8280 non-null   float64\n",
            " 1   QV2M         8280 non-null   float64\n",
            " 2   RH2M         8280 non-null   float64\n",
            " 3   PRECTOTCORR  8280 non-null   float64\n",
            " 4   PS           8280 non-null   float64\n",
            " 5   WS10M        8280 non-null   float64\n",
            " 6   WD10M        8280 non-null   float64\n",
            " 7   datetime     8280 non-null   object \n",
            "dtypes: float64(7), object(1)\n",
            "memory usage: 517.6+ KB\n",
            "None\n",
            "T2M            0\n",
            "QV2M           0\n",
            "RH2M           0\n",
            "PRECTOTCORR    0\n",
            "PS             0\n",
            "WS10M          0\n",
            "WD10M          0\n",
            "datetime       0\n",
            "dtype: int64\n"
          ]
        },
        {
          "output_type": "display_data",
          "data": {
            "text/plain": [
              "<Figure size 2000x1500 with 9 Axes>"
            ],
            "image/png": "[encoded data removed]"
          },
          "metadata": {}
        }
      ]
    },
    {
      "cell_type": "code",
      "source": [
        "import pandas as pd\n",
        "import numpy as np\n",
        "import torch\n",
        "import torch.nn as nn\n",
        "from sklearn.preprocessing import MinMaxScaler\n",
        "from sklearn.model_selection import train_test_split\n"
      ],
      "metadata": {
        "id": "rxC1ZLLAeOKK"
      },
      "execution_count": 53,
      "outputs": []
    },
    {
      "cell_type": "code",
      "source": [
        "\n",
        "veri = pd.read_csv(\"temiz_veri.csv\")\n",
        "\n",
        "\n",
        "veri[\"datetime\"] = pd.to_datetime(veri[\"datetime\"])\n",
        "veri = veri.set_index(\"datetime\")\n",
        "\n",
        "\n",
        "X = veri.drop(\"T2M\", axis=1)\n",
        "y = veri[\"T2M\"]\n",
        "\n",
        "\n",
        "scaler_X = MinMaxScaler()\n",
        "scaler_y = MinMaxScaler()\n",
        "\n",
        "X_scaled = scaler_X.fit_transform(X)\n",
        "y_scaled = scaler_y.fit_transform(y.values.reshape(-1, 1))\n"
      ],
      "metadata": {
        "id": "vMUeaoa3fn8x"
      },
      "execution_count": 55,
      "outputs": []
    },
    {
      "cell_type": "code",
      "source": [
        "\n",
        "def create_sequences(features, target, sequence_length):\n",
        "    X_seq, y_seq = [], []\n",
        "    for i in range(len(features) - sequence_length):\n",
        "        X_seq.append(features[i:i+sequence_length])\n",
        "        y_seq.append(target[i+sequence_length])\n",
        "    return np.array(X_seq), np.array(y_seq)\n",
        "\n",
        "sequence_length = 24\n",
        "X_seq, y_seq = create_sequences(X_scaled, y_scaled, sequence_length)\n",
        "\n",
        "\n",
        "X_train, X_test, y_train, y_test = train_test_split(X_seq, y_seq, test_size=0.2, random_state=42)\n",
        "\n",
        "\n",
        "X_train_tensor = torch.tensor(X_train, dtype=torch.float32)\n",
        "y_train_tensor = torch.tensor(y_train, dtype=torch.float32)\n",
        "X_test_tensor = torch.tensor(X_test, dtype=torch.float32)\n",
        "y_test_tensor = torch.tensor(y_test, dtype=torch.float32)\n"
      ],
      "metadata": {
        "id": "XlOKdUFVfqqR"
      },
      "execution_count": 56,
      "outputs": []
    },
    {
      "cell_type": "code",
      "source": [
        "from transformers import ReformerConfig\n",
        "\n",
        "\n",
        "config = ReformerConfig(\n",
        "    num_attention_heads=2,\n",
        "    hidden_size=6,\n",
        "    num_hidden_layers=2,\n",
        "    max_position_embeddings=sequence_length,\n",
        "    axial_pos_embds_dim=[3, 3],\n",
        ")\n",
        "\n",
        "\n",
        "model = ReformerTimeSeries(config, output_size=1)\n"
      ],
      "metadata": {
        "id": "iO3WkPMLgA92"
      },
      "execution_count": 61,
      "outputs": []
    },
    {
      "cell_type": "code",
      "source": [
        "\n",
        "model = ReformerTimeSeries(config, output_size=1)\n"
      ],
      "metadata": {
        "id": "HD0scke4gFX-"
      },
      "execution_count": 62,
      "outputs": []
    },
    {
      "cell_type": "code",
      "source": [
        "import torch\n",
        "\n",
        "\n",
        "sequence_length = 30\n",
        "features = 7\n",
        "batch_size = 32\n",
        "\n",
        "\n",
        "input_data = torch.randn(batch_size, sequence_length, features)\n",
        "target_data = torch.randn(batch_size, 1)\n"
      ],
      "metadata": {
        "id": "h9LjMy_oftdi"
      },
      "execution_count": 63,
      "outputs": []
    },
    {
      "cell_type": "code",
      "source": [
        "from transformers import ReformerConfig\n",
        "\n",
        "\n",
        "config = ReformerConfig()\n",
        "config.hidden_size = 256\n",
        "config.num_attention_heads = 4\n",
        "config.max_position_embeddings = 30\n",
        "config.axial_pos_shape = (5, 6)\n",
        "\n",
        "\n",
        "model = ReformerTimeSeries(config, output_size=1)\n"
      ],
      "metadata": {
        "id": "zekjQtd1guB6"
      },
      "execution_count": 71,
      "outputs": []
    },
    {
      "cell_type": "code",
      "source": [
        "\n",
        "import torch.nn.functional as F\n",
        "\n",
        "sequence_length = 30\n",
        "desired_length = 4096\n",
        "padding_length = desired_length - sequence_length\n",
        "\n",
        "\n",
        "input_data_padded = F.pad(input_data, (0, 0, 0, padding_length), mode=\"constant\", value=0)\n"
      ],
      "metadata": {
        "id": "-ZZ3HvKVgwns"
      },
      "execution_count": 69,
      "outputs": []
    },
    {
      "cell_type": "code",
      "source": [
        "\n",
        "config.max_position_embeddings = 4096\n",
        "\n",
        "\n",
        "model = ReformerTimeSeries(config, output_size=1)\n"
      ],
      "metadata": {
        "id": "YO-_B_6FfwyN"
      },
      "execution_count": 73,
      "outputs": []
    },
    {
      "cell_type": "code",
      "source": [
        "\n",
        "input_data_trimmed = input_data[:, :, :30]\n"
      ],
      "metadata": {
        "id": "f6-8t75rhNjg"
      },
      "execution_count": 75,
      "outputs": []
    },
    {
      "cell_type": "code",
      "source": [
        "\n",
        "print(input_data_trimmed.shape)\n"
      ],
      "metadata": {
        "colab": {
          "base_uri": "https://localhost:8080/"
        },
        "id": "qV4IvMCPhXQa",
        "outputId": "825d484d-00f3-4ccf-c802-fdfbce8390af"
      },
      "execution_count": 77,
      "outputs": [
        {
          "output_type": "stream",
          "name": "stdout",
          "text": [
            "torch.Size([32, 30, 7])\n"
          ]
        }
      ]
    },
    {
      "cell_type": "code",
      "source": [
        "class ReformerTimeSeriesNoEmbeddings(ReformerTimeSeries):\n",
        "    def forward(self, inputs_embeds, *args, **kwargs):\n",
        "\n",
        "        return super().forward(inputs_embeds=inputs_embeds, *args, **kwargs)\n"
      ],
      "metadata": {
        "id": "_yYM5KynhbNB"
      },
      "execution_count": 78,
      "outputs": []
    },
    {
      "cell_type": "code",
      "source": [
        "\n",
        "input_data_trimmed = torch.tensor(input_data_trimmed, dtype=torch.float32).to(device)\n"
      ],
      "metadata": {
        "colab": {
          "base_uri": "https://localhost:8080/"
        },
        "id": "tHFjijKOhghP",
        "outputId": "2a9f8334-2db5-4d4a-c5bc-d7f8ef652374"
      },
      "execution_count": 80,
      "outputs": [
        {
          "output_type": "stream",
          "name": "stderr",
          "text": [
            "<ipython-input-80-beb59fc60984>:2: UserWarning: To copy construct from a tensor, it is recommended to use sourceTensor.clone().detach() or sourceTensor.clone().detach().requires_grad_(True), rather than torch.tensor(sourceTensor).\n",
            "  input_data_trimmed = torch.tensor(input_data_trimmed, dtype=torch.float32).to(device)\n"
          ]
        }
      ]
    },
    {
      "cell_type": "code",
      "source": [
        "class ReformerTimeSeriesCustom(nn.Module):\n",
        "    def __init__(self, config, output_size):\n",
        "        super(ReformerTimeSeriesCustom, self).__init__()\n",
        "        self.reformer = ReformerModel(config)\n",
        "        self.fc = nn.Linear(config.hidden_size, output_size)\n",
        "\n",
        "    def forward(self, input_data):\n",
        "\n",
        "        batch_size, seq_length, feature_size = input_data.shape\n",
        "\n",
        "\n",
        "        input_data_flattened = input_data.view(batch_size, seq_length * feature_size)\n",
        "\n",
        "\n",
        "        reformer_output = self.reformer(input_ids=input_data_flattened)\n",
        "\n",
        "\n",
        "        output = self.fc(reformer_output.last_hidden_state)\n",
        "        return output\n"
      ],
      "metadata": {
        "id": "ouv8n9LYhd-o"
      },
      "execution_count": 83,
      "outputs": []
    },
    {
      "cell_type": "code",
      "source": [
        "\n",
        "model = ReformerTimeSeriesCustom(config, output_size=1)\n",
        "\n",
        "\n",
        "device = torch.device(\"cuda\" if torch.cuda.is_available() else \"cpu\")\n",
        "model.to(device)\n"
      ],
      "metadata": {
        "colab": {
          "base_uri": "https://localhost:8080/"
        },
        "id": "RpDJUC6KghT7",
        "outputId": "f712c0e5-e4e6-4ab9-da34-e4df04e59468"
      },
      "execution_count": 85,
      "outputs": [
        {
          "output_type": "execute_result",
          "data": {
            "text/plain": [
              "ReformerTimeSeriesCustom(\n",
              "  (reformer): ReformerModel(\n",
              "    (embeddings): ReformerEmbeddings(\n",
              "      (word_embeddings): Embedding(320, 256)\n",
              "      (position_embeddings): AxialPositionEmbeddings(\n",
              "        (weights): ParameterList(\n",
              "            (0): Parameter containing: [torch.float32 of size 5x1x64]\n",
              "            (1): Parameter containing: [torch.float32 of size 1x6x192]\n",
              "        )\n",
              "      )\n",
              "    )\n",
              "    (encoder): ReformerEncoder(\n",
              "      (layers): ModuleList(\n",
              "        (0): ReformerLayer(\n",
              "          (attention): ReformerAttention(\n",
              "            (layer_norm): LayerNorm((256,), eps=1e-12, elementwise_affine=True)\n",
              "            (self_attention): LocalSelfAttention(\n",
              "              (query): Linear(in_features=256, out_features=256, bias=False)\n",
              "              (key): Linear(in_features=256, out_features=256, bias=False)\n",
              "              (value): Linear(in_features=256, out_features=256, bias=False)\n",
              "            )\n",
              "            (output): ReformerSelfOutput(\n",
              "              (dense): Linear(in_features=256, out_features=256, bias=False)\n",
              "            )\n",
              "          )\n",
              "          (feed_forward): ChunkReformerFeedForward(\n",
              "            (layer_norm): LayerNorm((256,), eps=1e-12, elementwise_affine=True)\n",
              "            (dense): ReformerFeedForwardDense(\n",
              "              (act_fn): ReLU()\n",
              "              (dense): Linear(in_features=256, out_features=512, bias=True)\n",
              "            )\n",
              "            (output): ReformerFeedForwardOutput(\n",
              "              (dense): Linear(in_features=512, out_features=256, bias=True)\n",
              "            )\n",
              "          )\n",
              "        )\n",
              "        (1): ReformerLayer(\n",
              "          (attention): ReformerAttention(\n",
              "            (layer_norm): LayerNorm((256,), eps=1e-12, elementwise_affine=True)\n",
              "            (self_attention): LSHSelfAttention(\n",
              "              (query_key): Linear(in_features=256, out_features=256, bias=False)\n",
              "              (value): Linear(in_features=256, out_features=256, bias=False)\n",
              "            )\n",
              "            (output): ReformerSelfOutput(\n",
              "              (dense): Linear(in_features=256, out_features=256, bias=False)\n",
              "            )\n",
              "          )\n",
              "          (feed_forward): ChunkReformerFeedForward(\n",
              "            (layer_norm): LayerNorm((256,), eps=1e-12, elementwise_affine=True)\n",
              "            (dense): ReformerFeedForwardDense(\n",
              "              (act_fn): ReLU()\n",
              "              (dense): Linear(in_features=256, out_features=512, bias=True)\n",
              "            )\n",
              "            (output): ReformerFeedForwardOutput(\n",
              "              (dense): Linear(in_features=512, out_features=256, bias=True)\n",
              "            )\n",
              "          )\n",
              "        )\n",
              "        (2): ReformerLayer(\n",
              "          (attention): ReformerAttention(\n",
              "            (layer_norm): LayerNorm((256,), eps=1e-12, elementwise_affine=True)\n",
              "            (self_attention): LocalSelfAttention(\n",
              "              (query): Linear(in_features=256, out_features=256, bias=False)\n",
              "              (key): Linear(in_features=256, out_features=256, bias=False)\n",
              "              (value): Linear(in_features=256, out_features=256, bias=False)\n",
              "            )\n",
              "            (output): ReformerSelfOutput(\n",
              "              (dense): Linear(in_features=256, out_features=256, bias=False)\n",
              "            )\n",
              "          )\n",
              "          (feed_forward): ChunkReformerFeedForward(\n",
              "            (layer_norm): LayerNorm((256,), eps=1e-12, elementwise_affine=True)\n",
              "            (dense): ReformerFeedForwardDense(\n",
              "              (act_fn): ReLU()\n",
              "              (dense): Linear(in_features=256, out_features=512, bias=True)\n",
              "            )\n",
              "            (output): ReformerFeedForwardOutput(\n",
              "              (dense): Linear(in_features=512, out_features=256, bias=True)\n",
              "            )\n",
              "          )\n",
              "        )\n",
              "        (3): ReformerLayer(\n",
              "          (attention): ReformerAttention(\n",
              "            (layer_norm): LayerNorm((256,), eps=1e-12, elementwise_affine=True)\n",
              "            (self_attention): LSHSelfAttention(\n",
              "              (query_key): Linear(in_features=256, out_features=256, bias=False)\n",
              "              (value): Linear(in_features=256, out_features=256, bias=False)\n",
              "            )\n",
              "            (output): ReformerSelfOutput(\n",
              "              (dense): Linear(in_features=256, out_features=256, bias=False)\n",
              "            )\n",
              "          )\n",
              "          (feed_forward): ChunkReformerFeedForward(\n",
              "            (layer_norm): LayerNorm((256,), eps=1e-12, elementwise_affine=True)\n",
              "            (dense): ReformerFeedForwardDense(\n",
              "              (act_fn): ReLU()\n",
              "              (dense): Linear(in_features=256, out_features=512, bias=True)\n",
              "            )\n",
              "            (output): ReformerFeedForwardOutput(\n",
              "              (dense): Linear(in_features=512, out_features=256, bias=True)\n",
              "            )\n",
              "          )\n",
              "        )\n",
              "        (4): ReformerLayer(\n",
              "          (attention): ReformerAttention(\n",
              "            (layer_norm): LayerNorm((256,), eps=1e-12, elementwise_affine=True)\n",
              "            (self_attention): LocalSelfAttention(\n",
              "              (query): Linear(in_features=256, out_features=256, bias=False)\n",
              "              (key): Linear(in_features=256, out_features=256, bias=False)\n",
              "              (value): Linear(in_features=256, out_features=256, bias=False)\n",
              "            )\n",
              "            (output): ReformerSelfOutput(\n",
              "              (dense): Linear(in_features=256, out_features=256, bias=False)\n",
              "            )\n",
              "          )\n",
              "          (feed_forward): ChunkReformerFeedForward(\n",
              "            (layer_norm): LayerNorm((256,), eps=1e-12, elementwise_affine=True)\n",
              "            (dense): ReformerFeedForwardDense(\n",
              "              (act_fn): ReLU()\n",
              "              (dense): Linear(in_features=256, out_features=512, bias=True)\n",
              "            )\n",
              "            (output): ReformerFeedForwardOutput(\n",
              "              (dense): Linear(in_features=512, out_features=256, bias=True)\n",
              "            )\n",
              "          )\n",
              "        )\n",
              "        (5): ReformerLayer(\n",
              "          (attention): ReformerAttention(\n",
              "            (layer_norm): LayerNorm((256,), eps=1e-12, elementwise_affine=True)\n",
              "            (self_attention): LSHSelfAttention(\n",
              "              (query_key): Linear(in_features=256, out_features=256, bias=False)\n",
              "              (value): Linear(in_features=256, out_features=256, bias=False)\n",
              "            )\n",
              "            (output): ReformerSelfOutput(\n",
              "              (dense): Linear(in_features=256, out_features=256, bias=False)\n",
              "            )\n",
              "          )\n",
              "          (feed_forward): ChunkReformerFeedForward(\n",
              "            (layer_norm): LayerNorm((256,), eps=1e-12, elementwise_affine=True)\n",
              "            (dense): ReformerFeedForwardDense(\n",
              "              (act_fn): ReLU()\n",
              "              (dense): Linear(in_features=256, out_features=512, bias=True)\n",
              "            )\n",
              "            (output): ReformerFeedForwardOutput(\n",
              "              (dense): Linear(in_features=512, out_features=256, bias=True)\n",
              "            )\n",
              "          )\n",
              "        )\n",
              "      )\n",
              "      (layer_norm): LayerNorm((512,), eps=1e-12, elementwise_affine=True)\n",
              "    )\n",
              "  )\n",
              "  (fc): Linear(in_features=256, out_features=1, bias=True)\n",
              ")"
            ]
          },
          "metadata": {},
          "execution_count": 85
        }
      ]
    },
    {
      "cell_type": "code",
      "source": [
        "\n",
        "batch_size = 32\n",
        "seq_length = 30\n",
        "feature_size = 7\n",
        "\n",
        "input_data = torch.randn(batch_size, seq_length, feature_size).to(device)\n"
      ],
      "metadata": {
        "id": "H6YXS2SUh5tz"
      },
      "execution_count": 86,
      "outputs": []
    },
    {
      "cell_type": "code",
      "source": [
        "\n",
        "chunk_length = 64\n",
        "desired_length = (input_data.shape[1] + chunk_length - 1) // chunk_length * chunk_length\n",
        "\n",
        "\n",
        "padded_data = torch.zeros(input_data.shape[0], desired_length, input_data.shape[2]).to(device)\n",
        "padded_data[:, :input_data.shape[1], :] = input_data\n"
      ],
      "metadata": {
        "id": "fLxEBoCVh7Np"
      },
      "execution_count": 88,
      "outputs": []
    },
    {
      "cell_type": "code",
      "source": [
        "class ReformerTimeSeriesCustom(nn.Module):\n",
        "    def __init__(self, config, output_size):\n",
        "        super(ReformerTimeSeriesCustom, self).__init__()\n",
        "        self.reformer = ReformerModel(config)\n",
        "        self.fc = nn.Linear(config.hidden_size, output_size)\n",
        "\n",
        "    def forward(self, input_data):\n",
        "\n",
        "        reformer_output = self.reformer(inputs_embeds=input_data)\n",
        "\n",
        "        output = self.fc(reformer_output.last_hidden_state)\n",
        "        return output\n"
      ],
      "metadata": {
        "id": "j4Mia66hiRqR"
      },
      "execution_count": 90,
      "outputs": []
    },
    {
      "cell_type": "code",
      "source": [
        "config.axial_pos_shape = (8, 8)\n"
      ],
      "metadata": {
        "id": "drvOsegsip05"
      },
      "execution_count": 92,
      "outputs": []
    },
    {
      "cell_type": "code",
      "source": [
        "trimmed_data = padded_data[:, :30, :]"
      ],
      "metadata": {
        "id": "dt2gLWTAix-a"
      },
      "execution_count": 94,
      "outputs": []
    },
    {
      "cell_type": "code",
      "source": [
        "\n",
        "batch_size, seq_length, feature_size = padded_data.shape\n",
        "input_data_flattened = padded_data.view(batch_size, seq_length * feature_size).long()\n"
      ],
      "metadata": {
        "id": "V2j8B-pvihxY"
      },
      "execution_count": 97,
      "outputs": []
    },
    {
      "cell_type": "code",
      "source": [
        "config.axial_pos_shape = (8, 8)\n",
        "config.hidden_size = 64\n"
      ],
      "metadata": {
        "id": "wqcBhPMYi8YE"
      },
      "execution_count": 99,
      "outputs": []
    },
    {
      "cell_type": "code",
      "source": [
        "from transformers import ReformerConfig\n",
        "\n",
        "# Yeni bir config oluştur\n",
        "config = ReformerConfig(\n",
        "    hidden_size=256,\n",
        "    axial_pos_embds_dim=(128, 128),\n",
        "    axial_pos_shape=(16, 16),\n",
        "    num_attention_heads=8,\n",
        "    feed_forward_size=512\n",
        ")\n"
      ],
      "metadata": {
        "id": "2Tih8TGLjCtj"
      },
      "execution_count": 101,
      "outputs": []
    },
    {
      "cell_type": "code",
      "source": [
        "model = ReformerTimeSeriesCustom(config, output_size=1).to(device)\n"
      ],
      "metadata": {
        "id": "XBRGmY1njDaQ"
      },
      "execution_count": 102,
      "outputs": []
    },
    {
      "cell_type": "code",
      "source": [
        "padded_data = padded_data[:, :256, :]\n"
      ],
      "metadata": {
        "id": "lUc3f1UJjP5H"
      },
      "execution_count": 103,
      "outputs": []
    },
    {
      "cell_type": "code",
      "source": [
        "import pandas as pd\n",
        "import numpy as np\n",
        "import torch\n",
        "import torch.nn as nn\n",
        "from torch.utils.data import DataLoader, Dataset\n",
        "from sklearn.metrics import mean_squared_error, mean_absolute_error, r2_score\n",
        "from transformers import ReformerConfig, ReformerModel\n",
        "from time import time\n"
      ],
      "metadata": {
        "id": "GOjFh33djR8g"
      },
      "execution_count": 105,
      "outputs": []
    },
    {
      "cell_type": "code",
      "source": [
        "\n",
        "data = pd.read_csv(\"temiz_veri.csv\")\n",
        "\n",
        "\n",
        "data['datetime'] = pd.to_datetime(data['datetime'])\n",
        "data.set_index('datetime', inplace=True)\n",
        "\n",
        "target_col = 'T2M'\n",
        "input_cols = data.columns.difference([target_col])\n",
        "\n",
        "from sklearn.preprocessing import MinMaxScaler\n",
        "scaler = MinMaxScaler()\n",
        "data[input_cols] = scaler.fit_transform(data[input_cols])\n",
        "data[target_col] = scaler.fit_transform(data[[target_col]])\n",
        "\n",
        "train_size = int(len(data) * 0.8)\n",
        "train_data = data[:train_size]\n",
        "test_data = data[train_size:]\n"
      ],
      "metadata": {
        "id": "9qYJM4hrjTe4"
      },
      "execution_count": 106,
      "outputs": []
    },
    {
      "cell_type": "code",
      "source": [
        "class TimeSeriesDataset(Dataset):\n",
        "    def __init__(self, data, target_col, input_cols, seq_length):\n",
        "        self.data = data\n",
        "        self.target_col = target_col\n",
        "        self.input_cols = input_cols\n",
        "        self.seq_length = seq_length\n",
        "\n",
        "    def __len__(self):\n",
        "        return len(self.data) - self.seq_length\n",
        "\n",
        "    def __getitem__(self, idx):\n",
        "        x = self.data.iloc[idx:idx + self.seq_length][self.input_cols].values\n",
        "        y = self.data.iloc[idx + self.seq_length][self.target_col]\n",
        "        return torch.tensor(x, dtype=torch.float32), torch.tensor(y, dtype=torch.float32)\n",
        "\n",
        "\n",
        "seq_length = 30\n",
        "train_dataset = TimeSeriesDataset(train_data, target_col, input_cols, seq_length)\n",
        "test_dataset = TimeSeriesDataset(test_data, target_col, input_cols, seq_length)\n",
        "\n",
        "\n",
        "batch_size = 64\n",
        "train_loader = DataLoader(train_dataset, batch_size=batch_size, shuffle=True)\n",
        "test_loader = DataLoader(test_dataset, batch_size=batch_size, shuffle=False)\n"
      ],
      "metadata": {
        "id": "UM0KfF6Pjji3"
      },
      "execution_count": 107,
      "outputs": []
    },
    {
      "cell_type": "code",
      "source": [
        "class ReformerTimeSeriesModel(nn.Module):\n",
        "    def __init__(self, config, output_size):\n",
        "        super().__init__()\n",
        "        self.reformer = ReformerModel(config)\n",
        "        self.fc = nn.Linear(config.hidden_size, output_size)\n",
        "\n",
        "    def forward(self, x):\n",
        "        batch_size, seq_length, feature_size = x.shape\n",
        "        x_flattened = x.view(batch_size, seq_length * feature_size)\n",
        "        x_flattened = x_flattened.unsqueeze(-1)\n",
        "        outputs = self.reformer(inputs_embeds=x_flattened)\n",
        "        hidden_state = outputs.last_hidden_state\n",
        "        return self.fc(hidden_state[:, -1, :])\n",
        "\n",
        "\n",
        "config = ReformerConfig(hidden_size=64, axial_pos_embds_dim=(32, 32), axial_pos_shape=(16, 16))\n",
        "model = ReformerTimeSeriesModel(config, output_size=1).to(\"cuda\" if torch.cuda.is_available() else \"cpu\")\n"
      ],
      "metadata": {
        "id": "Ul_IevtbjlKT"
      },
      "execution_count": 108,
      "outputs": []
    },
    {
      "cell_type": "code",
      "source": [
        "def train_model(model, train_loader, criterion, optimizer, num_epochs=10):\n",
        "    model.train()\n",
        "    for epoch in range(num_epochs):\n",
        "        epoch_loss = 0\n",
        "        for x, y in train_loader:\n",
        "            x, y = x.to(device), y.to(device)\n",
        "            optimizer.zero_grad()\n",
        "            outputs = model(x)\n",
        "            loss = criterion(outputs, y.unsqueeze(-1))\n",
        "            loss.backward()\n",
        "            optimizer.step()\n",
        "            epoch_loss += loss.item()\n",
        "        print(f\"Epoch {epoch+1}/{num_epochs}, Loss: {epoch_loss/len(train_loader)}\")\n",
        "\n",
        "def evaluate_model(model, test_loader):\n",
        "    model.eval()\n",
        "    predictions, actuals = [], []\n",
        "    with torch.no_grad():\n",
        "        for x, y in test_loader:\n",
        "            x = x.to(device)\n",
        "            outputs = model(x)\n",
        "            predictions.append(outputs.cpu().numpy())\n",
        "            actuals.append(y.numpy())\n",
        "    return np.concatenate(predictions).flatten(), np.concatenate(actuals).flatten()\n"
      ],
      "metadata": {
        "id": "D3mkVdp9jnJh"
      },
      "execution_count": 111,
      "outputs": []
    },
    {
      "cell_type": "code",
      "source": [
        "class PaddedTimeSeriesDataset(Dataset):\n",
        "    def __init__(self, data, target_col, input_cols, seq_length, padded_length):\n",
        "        self.data = data\n",
        "        self.target_col = target_col\n",
        "        self.input_cols = input_cols\n",
        "        self.seq_length = seq_length\n",
        "        self.padded_length = padded_length\n",
        "\n",
        "    def __len__(self):\n",
        "        return len(self.data) - self.seq_length\n",
        "\n",
        "    def __getitem__(self, idx):\n",
        "        x = self.data.iloc[idx:idx + self.seq_length][self.input_cols].values\n",
        "        y = self.data.iloc[idx + self.seq_length][self.target_col]\n",
        "\n",
        "\n",
        "        x_padded = np.zeros((self.padded_length, len(self.input_cols)))\n",
        "        x_padded[:self.seq_length] = x\n",
        "\n",
        "        return torch.tensor(x_padded, dtype=torch.float32), torch.tensor(y, dtype=torch.float32)\n",
        "\n",
        "\n",
        "padded_length = 192\n",
        "train_dataset = PaddedTimeSeriesDataset(train_data, target_col, input_cols, seq_length, padded_length)\n",
        "test_dataset = PaddedTimeSeriesDataset(test_data, target_col, input_cols, seq_length, padded_length)\n",
        "\n",
        "train_loader = DataLoader(train_dataset, batch_size=batch_size, shuffle=True)\n",
        "test_loader = DataLoader(test_dataset, batch_size=batch_size, shuffle=False)\n"
      ],
      "metadata": {
        "id": "y-aEg3NsjotT"
      },
      "execution_count": 113,
      "outputs": []
    },
    {
      "cell_type": "code",
      "source": [
        "padded_length = 256\n",
        "train_dataset = PaddedTimeSeriesDataset(train_data, target_col, input_cols, seq_length, padded_length)\n",
        "test_dataset = PaddedTimeSeriesDataset(test_data, target_col, input_cols, seq_length, padded_length)\n",
        "\n",
        "train_loader = DataLoader(train_dataset, batch_size=batch_size, shuffle=True)\n",
        "test_loader = DataLoader(test_dataset, batch_size=batch_size, shuffle=False)\n"
      ],
      "metadata": {
        "id": "kHXfKdYakKu0"
      },
      "execution_count": 115,
      "outputs": []
    },
    {
      "cell_type": "code",
      "source": [],
      "metadata": {
        "colab": {
          "base_uri": "https://localhost:8080/",
          "height": 211
        },
        "id": "Q9iBuEEzsn5X",
        "outputId": "5563e4ca-2be9-4616-8180-3d3756b6e7a7"
      },
      "execution_count": 119,
      "outputs": [
        {
          "output_type": "error",
          "ename": "FileNotFoundError",
          "evalue": "[Errno 2] No such file or directory: 'notebook.ipynb'",
          "traceback": [
            "\u001b[0;31m---------------------------------------------------------------------------\u001b[0m",
            "\u001b[0;31mFileNotFoundError\u001b[0m                         Traceback (most recent call last)",
            "\u001b[0;32m<ipython-input-119-6c194c86039d>\u001b[0m in \u001b[0;36m<cell line: 5>\u001b[0;34m()\u001b[0m\n\u001b[1;32m      3\u001b[0m \u001b[0;34m\u001b[0m\u001b[0m\n\u001b[1;32m      4\u001b[0m \u001b[0;31m# Şu anki notebook'u indir\u001b[0m\u001b[0;34m\u001b[0m\u001b[0;34m\u001b[0m\u001b[0m\n\u001b[0;32m----> 5\u001b[0;31m \u001b[0;32mwith\u001b[0m \u001b[0mopen\u001b[0m\u001b[0;34m(\u001b[0m\u001b[0;34m'notebook.ipynb'\u001b[0m\u001b[0;34m,\u001b[0m \u001b[0;34m'r'\u001b[0m\u001b[0;34m)\u001b[0m \u001b[0;32mas\u001b[0m \u001b[0mf\u001b[0m\u001b[0;34m:\u001b[0m\u001b[0;34m\u001b[0m\u001b[0;34m\u001b[0m\u001b[0m\n\u001b[0m\u001b[1;32m      6\u001b[0m     \u001b[0mnotebook_data\u001b[0m \u001b[0;34m=\u001b[0m \u001b[0mnbformat\u001b[0m\u001b[0;34m.\u001b[0m\u001b[0mread\u001b[0m\u001b[0;34m(\u001b[0m\u001b[0mf\u001b[0m\u001b[0;34m,\u001b[0m \u001b[0mas_version\u001b[0m\u001b[0;34m=\u001b[0m\u001b[0;36m4\u001b[0m\u001b[0;34m)\u001b[0m\u001b[0;34m\u001b[0m\u001b[0;34m\u001b[0m\u001b[0m\n\u001b[1;32m      7\u001b[0m \u001b[0;34m\u001b[0m\u001b[0m\n",
            "\u001b[0;31mFileNotFoundError\u001b[0m: [Errno 2] No such file or directory: 'notebook.ipynb'"
          ]
        }
      ]
    }
  ]
}